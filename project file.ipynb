{
  "cells": [
    {
      "cell_type": "markdown",
      "metadata": {
        "id": "n2a2QqSdKCRe"
      },
      "source": [
        "#**DATA WAREHOUSE AND DATA MINING**\n",
        "CS 423: Data Warehousing and Data Mining (3+1): BESE-10/BSCS-9 Fall 2022\n",
        "##Semester Project\n",
        "##Group Members\n",
        "*   Muhammad Hamza Imran \n",
        "*   Muhammad Muzammil Malik\n",
        "*   Hamza Mustaque\n",
        "*   Adeel Ahmed\n",
        "---"
      ],
      "id": "n2a2QqSdKCRe"
    },
    {
      "cell_type": "markdown",
      "metadata": {
        "id": "z0oGOEC1J5oC"
      },
      "source": [
        "#ENVIRONMENT SETUP"
      ],
      "id": "z0oGOEC1J5oC"
    },
    {
      "cell_type": "markdown",
      "metadata": {
        "id": "En6lJbtnL4Mn"
      },
      "source": [
        "##Imports"
      ],
      "id": "En6lJbtnL4Mn"
    },
    {
      "cell_type": "code",
      "execution_count": null,
      "metadata": {
        "id": "a81af0da"
      },
      "outputs": [],
      "source": [
        "import numpy as np \n",
        "import pandas as pd"
      ],
      "id": "a81af0da"
    },
    {
      "cell_type": "markdown",
      "metadata": {
        "id": "KpUy65mnL85s"
      },
      "source": [
        "##Connecting Google Drive"
      ],
      "id": "KpUy65mnL85s"
    },
    {
      "cell_type": "code",
      "execution_count": null,
      "metadata": {
        "id": "-gsMF9eW8tu2",
        "colab": {
          "base_uri": "https://localhost:8080/"
        },
        "outputId": "a2cc8dc6-1367-4d32-f2f6-860ed542c15f"
      },
      "outputs": [
        {
          "output_type": "stream",
          "name": "stdout",
          "text": [
            "Drive already mounted at /content/drive; to attempt to forcibly remount, call drive.mount(\"/content/drive\", force_remount=True).\n"
          ]
        }
      ],
      "source": [
        "# Connectiong Google Drive to access dataset \n",
        "from google.colab import drive\n",
        "drive.mount('/content/drive')"
      ],
      "id": "-gsMF9eW8tu2"
    },
    {
      "cell_type": "markdown",
      "metadata": {
        "id": "45gt_NCMMOb7"
      },
      "source": [
        "##Loading Dataset "
      ],
      "id": "45gt_NCMMOb7"
    },
    {
      "cell_type": "code",
      "execution_count": null,
      "metadata": {
        "id": "2f6e5f7c",
        "colab": {
          "base_uri": "https://localhost:8080/",
          "height": 995
        },
        "outputId": "b7da8d81-44b0-4d31-b660-5b40528c44e4"
      },
      "outputs": [
        {
          "output_type": "execute_result",
          "data": {
            "text/plain": [
              "   property_id  location_id  \\\n",
              "0       347795            8   \n",
              "1       482892           48   \n",
              "2       555962           75   \n",
              "3       562843         3821   \n",
              "4       686990         3522   \n",
              "5       785289         3102   \n",
              "6       891543         4031   \n",
              "7       983065         3749   \n",
              "8       983066         3745   \n",
              "9       983075         3931   \n",
              "\n",
              "                                            page_url property_type      price  \\\n",
              "0  https://www.zameen.com/Property/lahore_model_t...         House  220000000   \n",
              "1  https://www.zameen.com/Property/lahore_multan_...         House   40000000   \n",
              "2  https://www.zameen.com/Property/eden_eden_aven...         House    9500000   \n",
              "3  https://www.zameen.com/Property/gulberg_2_gulb...         House  125000000   \n",
              "4  https://www.zameen.com/Property/allama_iqbal_t...         House   21000000   \n",
              "5  https://www.zameen.com/Property/gulberg_paf_fa...         House   52000000   \n",
              "6  https://www.zameen.com/Property/military_accou...         House   16500000   \n",
              "7  https://www.zameen.com/Property/eme_society_em...         House   32500000   \n",
              "8  https://www.zameen.com/Property/eme_society_em...         House   31500000   \n",
              "9  https://www.zameen.com/Property/izmir_town_izm...         House   40000000   \n",
              "\n",
              "   price_bin                           location    city province_name  \\\n",
              "0  Very High                         Model Town  Lahore        Punjab   \n",
              "1  Very High                        Multan Road  Lahore        Punjab   \n",
              "2        Low                               Eden  Lahore        Punjab   \n",
              "3  Very High                            Gulberg  Lahore        Punjab   \n",
              "4       High                  Allama Iqbal Town  Lahore        Punjab   \n",
              "5  Very High                            Gulberg  Lahore        Punjab   \n",
              "6       High  Military Accounts Housing Society  Lahore        Punjab   \n",
              "7       High                        EME Society  Lahore        Punjab   \n",
              "8       High                        EME Society  Lahore        Punjab   \n",
              "9  Very High                         Izmir Town  Lahore        Punjab   \n",
              "\n",
              "                                            locality  ...  area_marla  \\\n",
              "0                         Model Town, Lahore, Punjab  ...       120.0   \n",
              "1                        Multan Road, Lahore, Punjab  ...        20.0   \n",
              "2                               Eden, Lahore, Punjab  ...         9.0   \n",
              "3                            Gulberg, Lahore, Punjab  ...        20.0   \n",
              "4                  Allama Iqbal Town, Lahore, Punjab  ...        11.0   \n",
              "5                            Gulberg, Lahore, Punjab  ...        20.0   \n",
              "6  Military Accounts Housing Society, Lahore, Punjab  ...         8.0   \n",
              "7                        EME Society, Lahore, Punjab  ...        20.0   \n",
              "8                        EME Society, Lahore, Punjab  ...        20.0   \n",
              "9                         Izmir Town, Lahore, Punjab  ...        32.0   \n",
              "\n",
              "   area_sqft   purpose bedrooms  date_added  year month  day  \\\n",
              "0   32670.12  For Sale        0  07-17-2019  2019     7   17   \n",
              "1    5445.02  For Sale        5  10-06-2018  2018    10    6   \n",
              "2    2450.26  For Sale        3  07-03-2019  2019     7    3   \n",
              "3    5445.02  For Sale        8  04-04-2019  2019     4    4   \n",
              "4    2994.76  For Sale        6  04-04-2019  2019     4    4   \n",
              "5    5445.02  For Sale        5  06-02-2019  2019     6    2   \n",
              "6    2178.01  For Sale        6  07-03-2019  2019     7    3   \n",
              "7    5445.02  For Sale        5  07-03-2019  2019     7    3   \n",
              "8    5445.02  For Sale        6  07-03-2019  2019     7    3   \n",
              "9    8712.03  For Sale        6  07-03-2019  2019     7    3   \n",
              "\n",
              "                      agency                            agent  \n",
              "0     Real Biz International                       Usama Khan  \n",
              "1                Khan Estate                 mohsinkhan and B  \n",
              "2            Shahum Estate 2          Babar Hameed, Raja Omar  \n",
              "3                        NaN                              NaN  \n",
              "4                        NaN                              NaN  \n",
              "5              MATZ Services  Group Captain (R) Tajammul Baig  \n",
              "6                        NaN                              NaN  \n",
              "7  Sukhera Estate & Builders             Ahmed Sheraz Sukhera  \n",
              "8  Sukhera Estate & Builders             Ahmed Sheraz Sukhera  \n",
              "9  Sukhera Estate & Builders             Ahmed Sheraz Sukhera  \n",
              "\n",
              "[10 rows x 24 columns]"
            ],
            "text/html": [
              "\n",
              "  <div id=\"df-8ff9ed15-2ffc-4fba-b910-343cc789ae44\">\n",
              "    <div class=\"colab-df-container\">\n",
              "      <div>\n",
              "<style scoped>\n",
              "    .dataframe tbody tr th:only-of-type {\n",
              "        vertical-align: middle;\n",
              "    }\n",
              "\n",
              "    .dataframe tbody tr th {\n",
              "        vertical-align: top;\n",
              "    }\n",
              "\n",
              "    .dataframe thead th {\n",
              "        text-align: right;\n",
              "    }\n",
              "</style>\n",
              "<table border=\"1\" class=\"dataframe\">\n",
              "  <thead>\n",
              "    <tr style=\"text-align: right;\">\n",
              "      <th></th>\n",
              "      <th>property_id</th>\n",
              "      <th>location_id</th>\n",
              "      <th>page_url</th>\n",
              "      <th>property_type</th>\n",
              "      <th>price</th>\n",
              "      <th>price_bin</th>\n",
              "      <th>location</th>\n",
              "      <th>city</th>\n",
              "      <th>province_name</th>\n",
              "      <th>locality</th>\n",
              "      <th>...</th>\n",
              "      <th>area_marla</th>\n",
              "      <th>area_sqft</th>\n",
              "      <th>purpose</th>\n",
              "      <th>bedrooms</th>\n",
              "      <th>date_added</th>\n",
              "      <th>year</th>\n",
              "      <th>month</th>\n",
              "      <th>day</th>\n",
              "      <th>agency</th>\n",
              "      <th>agent</th>\n",
              "    </tr>\n",
              "  </thead>\n",
              "  <tbody>\n",
              "    <tr>\n",
              "      <th>0</th>\n",
              "      <td>347795</td>\n",
              "      <td>8</td>\n",
              "      <td>https://www.zameen.com/Property/lahore_model_t...</td>\n",
              "      <td>House</td>\n",
              "      <td>220000000</td>\n",
              "      <td>Very High</td>\n",
              "      <td>Model Town</td>\n",
              "      <td>Lahore</td>\n",
              "      <td>Punjab</td>\n",
              "      <td>Model Town, Lahore, Punjab</td>\n",
              "      <td>...</td>\n",
              "      <td>120.0</td>\n",
              "      <td>32670.12</td>\n",
              "      <td>For Sale</td>\n",
              "      <td>0</td>\n",
              "      <td>07-17-2019</td>\n",
              "      <td>2019</td>\n",
              "      <td>7</td>\n",
              "      <td>17</td>\n",
              "      <td>Real Biz International</td>\n",
              "      <td>Usama Khan</td>\n",
              "    </tr>\n",
              "    <tr>\n",
              "      <th>1</th>\n",
              "      <td>482892</td>\n",
              "      <td>48</td>\n",
              "      <td>https://www.zameen.com/Property/lahore_multan_...</td>\n",
              "      <td>House</td>\n",
              "      <td>40000000</td>\n",
              "      <td>Very High</td>\n",
              "      <td>Multan Road</td>\n",
              "      <td>Lahore</td>\n",
              "      <td>Punjab</td>\n",
              "      <td>Multan Road, Lahore, Punjab</td>\n",
              "      <td>...</td>\n",
              "      <td>20.0</td>\n",
              "      <td>5445.02</td>\n",
              "      <td>For Sale</td>\n",
              "      <td>5</td>\n",
              "      <td>10-06-2018</td>\n",
              "      <td>2018</td>\n",
              "      <td>10</td>\n",
              "      <td>6</td>\n",
              "      <td>Khan Estate</td>\n",
              "      <td>mohsinkhan and B</td>\n",
              "    </tr>\n",
              "    <tr>\n",
              "      <th>2</th>\n",
              "      <td>555962</td>\n",
              "      <td>75</td>\n",
              "      <td>https://www.zameen.com/Property/eden_eden_aven...</td>\n",
              "      <td>House</td>\n",
              "      <td>9500000</td>\n",
              "      <td>Low</td>\n",
              "      <td>Eden</td>\n",
              "      <td>Lahore</td>\n",
              "      <td>Punjab</td>\n",
              "      <td>Eden, Lahore, Punjab</td>\n",
              "      <td>...</td>\n",
              "      <td>9.0</td>\n",
              "      <td>2450.26</td>\n",
              "      <td>For Sale</td>\n",
              "      <td>3</td>\n",
              "      <td>07-03-2019</td>\n",
              "      <td>2019</td>\n",
              "      <td>7</td>\n",
              "      <td>3</td>\n",
              "      <td>Shahum Estate 2</td>\n",
              "      <td>Babar Hameed, Raja Omar</td>\n",
              "    </tr>\n",
              "    <tr>\n",
              "      <th>3</th>\n",
              "      <td>562843</td>\n",
              "      <td>3821</td>\n",
              "      <td>https://www.zameen.com/Property/gulberg_2_gulb...</td>\n",
              "      <td>House</td>\n",
              "      <td>125000000</td>\n",
              "      <td>Very High</td>\n",
              "      <td>Gulberg</td>\n",
              "      <td>Lahore</td>\n",
              "      <td>Punjab</td>\n",
              "      <td>Gulberg, Lahore, Punjab</td>\n",
              "      <td>...</td>\n",
              "      <td>20.0</td>\n",
              "      <td>5445.02</td>\n",
              "      <td>For Sale</td>\n",
              "      <td>8</td>\n",
              "      <td>04-04-2019</td>\n",
              "      <td>2019</td>\n",
              "      <td>4</td>\n",
              "      <td>4</td>\n",
              "      <td>NaN</td>\n",
              "      <td>NaN</td>\n",
              "    </tr>\n",
              "    <tr>\n",
              "      <th>4</th>\n",
              "      <td>686990</td>\n",
              "      <td>3522</td>\n",
              "      <td>https://www.zameen.com/Property/allama_iqbal_t...</td>\n",
              "      <td>House</td>\n",
              "      <td>21000000</td>\n",
              "      <td>High</td>\n",
              "      <td>Allama Iqbal Town</td>\n",
              "      <td>Lahore</td>\n",
              "      <td>Punjab</td>\n",
              "      <td>Allama Iqbal Town, Lahore, Punjab</td>\n",
              "      <td>...</td>\n",
              "      <td>11.0</td>\n",
              "      <td>2994.76</td>\n",
              "      <td>For Sale</td>\n",
              "      <td>6</td>\n",
              "      <td>04-04-2019</td>\n",
              "      <td>2019</td>\n",
              "      <td>4</td>\n",
              "      <td>4</td>\n",
              "      <td>NaN</td>\n",
              "      <td>NaN</td>\n",
              "    </tr>\n",
              "    <tr>\n",
              "      <th>5</th>\n",
              "      <td>785289</td>\n",
              "      <td>3102</td>\n",
              "      <td>https://www.zameen.com/Property/gulberg_paf_fa...</td>\n",
              "      <td>House</td>\n",
              "      <td>52000000</td>\n",
              "      <td>Very High</td>\n",
              "      <td>Gulberg</td>\n",
              "      <td>Lahore</td>\n",
              "      <td>Punjab</td>\n",
              "      <td>Gulberg, Lahore, Punjab</td>\n",
              "      <td>...</td>\n",
              "      <td>20.0</td>\n",
              "      <td>5445.02</td>\n",
              "      <td>For Sale</td>\n",
              "      <td>5</td>\n",
              "      <td>06-02-2019</td>\n",
              "      <td>2019</td>\n",
              "      <td>6</td>\n",
              "      <td>2</td>\n",
              "      <td>MATZ Services</td>\n",
              "      <td>Group Captain (R) Tajammul Baig</td>\n",
              "    </tr>\n",
              "    <tr>\n",
              "      <th>6</th>\n",
              "      <td>891543</td>\n",
              "      <td>4031</td>\n",
              "      <td>https://www.zameen.com/Property/military_accou...</td>\n",
              "      <td>House</td>\n",
              "      <td>16500000</td>\n",
              "      <td>High</td>\n",
              "      <td>Military Accounts Housing Society</td>\n",
              "      <td>Lahore</td>\n",
              "      <td>Punjab</td>\n",
              "      <td>Military Accounts Housing Society, Lahore, Punjab</td>\n",
              "      <td>...</td>\n",
              "      <td>8.0</td>\n",
              "      <td>2178.01</td>\n",
              "      <td>For Sale</td>\n",
              "      <td>6</td>\n",
              "      <td>07-03-2019</td>\n",
              "      <td>2019</td>\n",
              "      <td>7</td>\n",
              "      <td>3</td>\n",
              "      <td>NaN</td>\n",
              "      <td>NaN</td>\n",
              "    </tr>\n",
              "    <tr>\n",
              "      <th>7</th>\n",
              "      <td>983065</td>\n",
              "      <td>3749</td>\n",
              "      <td>https://www.zameen.com/Property/eme_society_em...</td>\n",
              "      <td>House</td>\n",
              "      <td>32500000</td>\n",
              "      <td>High</td>\n",
              "      <td>EME Society</td>\n",
              "      <td>Lahore</td>\n",
              "      <td>Punjab</td>\n",
              "      <td>EME Society, Lahore, Punjab</td>\n",
              "      <td>...</td>\n",
              "      <td>20.0</td>\n",
              "      <td>5445.02</td>\n",
              "      <td>For Sale</td>\n",
              "      <td>5</td>\n",
              "      <td>07-03-2019</td>\n",
              "      <td>2019</td>\n",
              "      <td>7</td>\n",
              "      <td>3</td>\n",
              "      <td>Sukhera Estate &amp; Builders</td>\n",
              "      <td>Ahmed Sheraz Sukhera</td>\n",
              "    </tr>\n",
              "    <tr>\n",
              "      <th>8</th>\n",
              "      <td>983066</td>\n",
              "      <td>3745</td>\n",
              "      <td>https://www.zameen.com/Property/eme_society_em...</td>\n",
              "      <td>House</td>\n",
              "      <td>31500000</td>\n",
              "      <td>High</td>\n",
              "      <td>EME Society</td>\n",
              "      <td>Lahore</td>\n",
              "      <td>Punjab</td>\n",
              "      <td>EME Society, Lahore, Punjab</td>\n",
              "      <td>...</td>\n",
              "      <td>20.0</td>\n",
              "      <td>5445.02</td>\n",
              "      <td>For Sale</td>\n",
              "      <td>6</td>\n",
              "      <td>07-03-2019</td>\n",
              "      <td>2019</td>\n",
              "      <td>7</td>\n",
              "      <td>3</td>\n",
              "      <td>Sukhera Estate &amp; Builders</td>\n",
              "      <td>Ahmed Sheraz Sukhera</td>\n",
              "    </tr>\n",
              "    <tr>\n",
              "      <th>9</th>\n",
              "      <td>983075</td>\n",
              "      <td>3931</td>\n",
              "      <td>https://www.zameen.com/Property/izmir_town_izm...</td>\n",
              "      <td>House</td>\n",
              "      <td>40000000</td>\n",
              "      <td>Very High</td>\n",
              "      <td>Izmir Town</td>\n",
              "      <td>Lahore</td>\n",
              "      <td>Punjab</td>\n",
              "      <td>Izmir Town, Lahore, Punjab</td>\n",
              "      <td>...</td>\n",
              "      <td>32.0</td>\n",
              "      <td>8712.03</td>\n",
              "      <td>For Sale</td>\n",
              "      <td>6</td>\n",
              "      <td>07-03-2019</td>\n",
              "      <td>2019</td>\n",
              "      <td>7</td>\n",
              "      <td>3</td>\n",
              "      <td>Sukhera Estate &amp; Builders</td>\n",
              "      <td>Ahmed Sheraz Sukhera</td>\n",
              "    </tr>\n",
              "  </tbody>\n",
              "</table>\n",
              "<p>10 rows × 24 columns</p>\n",
              "</div>\n",
              "      <button class=\"colab-df-convert\" onclick=\"convertToInteractive('df-8ff9ed15-2ffc-4fba-b910-343cc789ae44')\"\n",
              "              title=\"Convert this dataframe to an interactive table.\"\n",
              "              style=\"display:none;\">\n",
              "        \n",
              "  <svg xmlns=\"http://www.w3.org/2000/svg\" height=\"24px\"viewBox=\"0 0 24 24\"\n",
              "       width=\"24px\">\n",
              "    <path d=\"M0 0h24v24H0V0z\" fill=\"none\"/>\n",
              "    <path d=\"M18.56 5.44l.94 2.06.94-2.06 2.06-.94-2.06-.94-.94-2.06-.94 2.06-2.06.94zm-11 1L8.5 8.5l.94-2.06 2.06-.94-2.06-.94L8.5 2.5l-.94 2.06-2.06.94zm10 10l.94 2.06.94-2.06 2.06-.94-2.06-.94-.94-2.06-.94 2.06-2.06.94z\"/><path d=\"M17.41 7.96l-1.37-1.37c-.4-.4-.92-.59-1.43-.59-.52 0-1.04.2-1.43.59L10.3 9.45l-7.72 7.72c-.78.78-.78 2.05 0 2.83L4 21.41c.39.39.9.59 1.41.59.51 0 1.02-.2 1.41-.59l7.78-7.78 2.81-2.81c.8-.78.8-2.07 0-2.86zM5.41 20L4 18.59l7.72-7.72 1.47 1.35L5.41 20z\"/>\n",
              "  </svg>\n",
              "      </button>\n",
              "      \n",
              "  <style>\n",
              "    .colab-df-container {\n",
              "      display:flex;\n",
              "      flex-wrap:wrap;\n",
              "      gap: 12px;\n",
              "    }\n",
              "\n",
              "    .colab-df-convert {\n",
              "      background-color: #E8F0FE;\n",
              "      border: none;\n",
              "      border-radius: 50%;\n",
              "      cursor: pointer;\n",
              "      display: none;\n",
              "      fill: #1967D2;\n",
              "      height: 32px;\n",
              "      padding: 0 0 0 0;\n",
              "      width: 32px;\n",
              "    }\n",
              "\n",
              "    .colab-df-convert:hover {\n",
              "      background-color: #E2EBFA;\n",
              "      box-shadow: 0px 1px 2px rgba(60, 64, 67, 0.3), 0px 1px 3px 1px rgba(60, 64, 67, 0.15);\n",
              "      fill: #174EA6;\n",
              "    }\n",
              "\n",
              "    [theme=dark] .colab-df-convert {\n",
              "      background-color: #3B4455;\n",
              "      fill: #D2E3FC;\n",
              "    }\n",
              "\n",
              "    [theme=dark] .colab-df-convert:hover {\n",
              "      background-color: #434B5C;\n",
              "      box-shadow: 0px 1px 3px 1px rgba(0, 0, 0, 0.15);\n",
              "      filter: drop-shadow(0px 1px 2px rgba(0, 0, 0, 0.3));\n",
              "      fill: #FFFFFF;\n",
              "    }\n",
              "  </style>\n",
              "\n",
              "      <script>\n",
              "        const buttonEl =\n",
              "          document.querySelector('#df-8ff9ed15-2ffc-4fba-b910-343cc789ae44 button.colab-df-convert');\n",
              "        buttonEl.style.display =\n",
              "          google.colab.kernel.accessAllowed ? 'block' : 'none';\n",
              "\n",
              "        async function convertToInteractive(key) {\n",
              "          const element = document.querySelector('#df-8ff9ed15-2ffc-4fba-b910-343cc789ae44');\n",
              "          const dataTable =\n",
              "            await google.colab.kernel.invokeFunction('convertToInteractive',\n",
              "                                                     [key], {});\n",
              "          if (!dataTable) return;\n",
              "\n",
              "          const docLinkHtml = 'Like what you see? Visit the ' +\n",
              "            '<a target=\"_blank\" href=https://colab.research.google.com/notebooks/data_table.ipynb>data table notebook</a>'\n",
              "            + ' to learn more about interactive tables.';\n",
              "          element.innerHTML = '';\n",
              "          dataTable['output_type'] = 'display_data';\n",
              "          await google.colab.output.renderOutput(dataTable, element);\n",
              "          const docLink = document.createElement('div');\n",
              "          docLink.innerHTML = docLinkHtml;\n",
              "          element.appendChild(docLink);\n",
              "        }\n",
              "      </script>\n",
              "    </div>\n",
              "  </div>\n",
              "  "
            ]
          },
          "metadata": {},
          "execution_count": 355
        }
      ],
      "source": [
        "properties_fe = pd.read_csv(\"/content/drive/MyDrive/DWDM/Dataset.csv\")\n",
        "properties_fe.head(10)"
      ],
      "id": "2f6e5f7c"
    },
    {
      "cell_type": "markdown",
      "metadata": {
        "id": "XKYxldtIMWYn"
      },
      "source": [
        "#DATA PRE EXPLORATION\n",
        "\n"
      ],
      "id": "XKYxldtIMWYn"
    },
    {
      "cell_type": "markdown",
      "metadata": {
        "id": "ZHmF-k9UMssN"
      },
      "source": [
        "##Cities available in dataset"
      ],
      "id": "ZHmF-k9UMssN"
    },
    {
      "cell_type": "code",
      "execution_count": null,
      "metadata": {
        "id": "728bb5c3",
        "colab": {
          "base_uri": "https://localhost:8080/"
        },
        "outputId": "d02dda6f-06e8-4ff0-e184-2d9166588f15"
      },
      "outputs": [
        {
          "output_type": "stream",
          "name": "stdout",
          "text": [
            "['Lahore' 'Karachi' 'Islamabad' 'Faisalabad' 'Rawalpindi']\n"
          ]
        },
        {
          "output_type": "execute_result",
          "data": {
            "text/plain": [
              "(191393, 24)"
            ]
          },
          "metadata": {},
          "execution_count": 356
        }
      ],
      "source": [
        "print(properties_fe[\"city\"].unique())\n",
        "properties_fe.shape"
      ],
      "id": "728bb5c3"
    },
    {
      "cell_type": "markdown",
      "metadata": {
        "id": "F5-Vr0d5M1uk"
      },
      "source": [
        "##Selecting 1 City"
      ],
      "id": "F5-Vr0d5M1uk"
    },
    {
      "cell_type": "code",
      "execution_count": null,
      "metadata": {
        "id": "a66863ff",
        "colab": {
          "base_uri": "https://localhost:8080/"
        },
        "outputId": "acf7eb74-8b4e-4a86-f7a1-0f087c1d7d4e"
      },
      "outputs": [
        {
          "output_type": "execute_result",
          "data": {
            "text/plain": [
              "(58736, 24)"
            ]
          },
          "metadata": {},
          "execution_count": 357
        }
      ],
      "source": [
        "df = properties_fe[properties_fe[\"city\"] == \"Lahore\"]\n",
        "df.head()\n",
        "df.shape"
      ],
      "id": "a66863ff"
    },
    {
      "cell_type": "markdown",
      "metadata": {
        "id": "66e42ff0"
      },
      "source": [
        "#DATA REFINING:\n",
        "There are many columns in the data set. Except for the useful columns removing all the remaing columns from the dataset."
      ],
      "id": "66e42ff0"
    },
    {
      "cell_type": "markdown",
      "metadata": {
        "id": "Su4rrjj0OM8s"
      },
      "source": [
        "##Droping extra columns"
      ],
      "id": "Su4rrjj0OM8s"
    },
    {
      "cell_type": "code",
      "execution_count": null,
      "metadata": {
        "id": "e9b370ec",
        "colab": {
          "base_uri": "https://localhost:8080/",
          "height": 340
        },
        "outputId": "6ff7f4da-df15-4873-90c9-93cfc7d95c20"
      },
      "outputs": [
        {
          "output_type": "execute_result",
          "data": {
            "text/plain": [
              "       price           location  baths  area_sqft  bedrooms\n",
              "0  220000000         Model Town      0   32670.12         0\n",
              "1   40000000        Multan Road      5    5445.02         5\n",
              "2    9500000               Eden      0    2450.26         3\n",
              "3  125000000            Gulberg      7    5445.02         8\n",
              "4   21000000  Allama Iqbal Town      5    2994.76         6"
            ],
            "text/html": [
              "\n",
              "  <div id=\"df-f294ec5f-87af-4aa6-a096-4044c572a9f6\">\n",
              "    <div class=\"colab-df-container\">\n",
              "      <div>\n",
              "<style scoped>\n",
              "    .dataframe tbody tr th:only-of-type {\n",
              "        vertical-align: middle;\n",
              "    }\n",
              "\n",
              "    .dataframe tbody tr th {\n",
              "        vertical-align: top;\n",
              "    }\n",
              "\n",
              "    .dataframe thead th {\n",
              "        text-align: right;\n",
              "    }\n",
              "</style>\n",
              "<table border=\"1\" class=\"dataframe\">\n",
              "  <thead>\n",
              "    <tr style=\"text-align: right;\">\n",
              "      <th></th>\n",
              "      <th>price</th>\n",
              "      <th>location</th>\n",
              "      <th>baths</th>\n",
              "      <th>area_sqft</th>\n",
              "      <th>bedrooms</th>\n",
              "    </tr>\n",
              "  </thead>\n",
              "  <tbody>\n",
              "    <tr>\n",
              "      <th>0</th>\n",
              "      <td>220000000</td>\n",
              "      <td>Model Town</td>\n",
              "      <td>0</td>\n",
              "      <td>32670.12</td>\n",
              "      <td>0</td>\n",
              "    </tr>\n",
              "    <tr>\n",
              "      <th>1</th>\n",
              "      <td>40000000</td>\n",
              "      <td>Multan Road</td>\n",
              "      <td>5</td>\n",
              "      <td>5445.02</td>\n",
              "      <td>5</td>\n",
              "    </tr>\n",
              "    <tr>\n",
              "      <th>2</th>\n",
              "      <td>9500000</td>\n",
              "      <td>Eden</td>\n",
              "      <td>0</td>\n",
              "      <td>2450.26</td>\n",
              "      <td>3</td>\n",
              "    </tr>\n",
              "    <tr>\n",
              "      <th>3</th>\n",
              "      <td>125000000</td>\n",
              "      <td>Gulberg</td>\n",
              "      <td>7</td>\n",
              "      <td>5445.02</td>\n",
              "      <td>8</td>\n",
              "    </tr>\n",
              "    <tr>\n",
              "      <th>4</th>\n",
              "      <td>21000000</td>\n",
              "      <td>Allama Iqbal Town</td>\n",
              "      <td>5</td>\n",
              "      <td>2994.76</td>\n",
              "      <td>6</td>\n",
              "    </tr>\n",
              "  </tbody>\n",
              "</table>\n",
              "</div>\n",
              "      <button class=\"colab-df-convert\" onclick=\"convertToInteractive('df-f294ec5f-87af-4aa6-a096-4044c572a9f6')\"\n",
              "              title=\"Convert this dataframe to an interactive table.\"\n",
              "              style=\"display:none;\">\n",
              "        \n",
              "  <svg xmlns=\"http://www.w3.org/2000/svg\" height=\"24px\"viewBox=\"0 0 24 24\"\n",
              "       width=\"24px\">\n",
              "    <path d=\"M0 0h24v24H0V0z\" fill=\"none\"/>\n",
              "    <path d=\"M18.56 5.44l.94 2.06.94-2.06 2.06-.94-2.06-.94-.94-2.06-.94 2.06-2.06.94zm-11 1L8.5 8.5l.94-2.06 2.06-.94-2.06-.94L8.5 2.5l-.94 2.06-2.06.94zm10 10l.94 2.06.94-2.06 2.06-.94-2.06-.94-.94-2.06-.94 2.06-2.06.94z\"/><path d=\"M17.41 7.96l-1.37-1.37c-.4-.4-.92-.59-1.43-.59-.52 0-1.04.2-1.43.59L10.3 9.45l-7.72 7.72c-.78.78-.78 2.05 0 2.83L4 21.41c.39.39.9.59 1.41.59.51 0 1.02-.2 1.41-.59l7.78-7.78 2.81-2.81c.8-.78.8-2.07 0-2.86zM5.41 20L4 18.59l7.72-7.72 1.47 1.35L5.41 20z\"/>\n",
              "  </svg>\n",
              "      </button>\n",
              "      \n",
              "  <style>\n",
              "    .colab-df-container {\n",
              "      display:flex;\n",
              "      flex-wrap:wrap;\n",
              "      gap: 12px;\n",
              "    }\n",
              "\n",
              "    .colab-df-convert {\n",
              "      background-color: #E8F0FE;\n",
              "      border: none;\n",
              "      border-radius: 50%;\n",
              "      cursor: pointer;\n",
              "      display: none;\n",
              "      fill: #1967D2;\n",
              "      height: 32px;\n",
              "      padding: 0 0 0 0;\n",
              "      width: 32px;\n",
              "    }\n",
              "\n",
              "    .colab-df-convert:hover {\n",
              "      background-color: #E2EBFA;\n",
              "      box-shadow: 0px 1px 2px rgba(60, 64, 67, 0.3), 0px 1px 3px 1px rgba(60, 64, 67, 0.15);\n",
              "      fill: #174EA6;\n",
              "    }\n",
              "\n",
              "    [theme=dark] .colab-df-convert {\n",
              "      background-color: #3B4455;\n",
              "      fill: #D2E3FC;\n",
              "    }\n",
              "\n",
              "    [theme=dark] .colab-df-convert:hover {\n",
              "      background-color: #434B5C;\n",
              "      box-shadow: 0px 1px 3px 1px rgba(0, 0, 0, 0.15);\n",
              "      filter: drop-shadow(0px 1px 2px rgba(0, 0, 0, 0.3));\n",
              "      fill: #FFFFFF;\n",
              "    }\n",
              "  </style>\n",
              "\n",
              "      <script>\n",
              "        const buttonEl =\n",
              "          document.querySelector('#df-f294ec5f-87af-4aa6-a096-4044c572a9f6 button.colab-df-convert');\n",
              "        buttonEl.style.display =\n",
              "          google.colab.kernel.accessAllowed ? 'block' : 'none';\n",
              "\n",
              "        async function convertToInteractive(key) {\n",
              "          const element = document.querySelector('#df-f294ec5f-87af-4aa6-a096-4044c572a9f6');\n",
              "          const dataTable =\n",
              "            await google.colab.kernel.invokeFunction('convertToInteractive',\n",
              "                                                     [key], {});\n",
              "          if (!dataTable) return;\n",
              "\n",
              "          const docLinkHtml = 'Like what you see? Visit the ' +\n",
              "            '<a target=\"_blank\" href=https://colab.research.google.com/notebooks/data_table.ipynb>data table notebook</a>'\n",
              "            + ' to learn more about interactive tables.';\n",
              "          element.innerHTML = '';\n",
              "          dataTable['output_type'] = 'display_data';\n",
              "          await google.colab.output.renderOutput(dataTable, element);\n",
              "          const docLink = document.createElement('div');\n",
              "          docLink.innerHTML = docLinkHtml;\n",
              "          element.appendChild(docLink);\n",
              "        }\n",
              "      </script>\n",
              "    </div>\n",
              "  </div>\n",
              "  "
            ]
          },
          "metadata": {},
          "execution_count": 358
        }
      ],
      "source": [
        "col_names = [\"location_id\",\"page_url\",\"province_name\",\"locality\",\"area_marla\",\"year\",\"month\",\"day\",\"agency\",\"agent\",\"latitude\",\"longitude\",\"property_id\",\"property_type\",\"price_bin\",\"purpose\",\"date_added\",\"city\",\"area\"]\n",
        "df = df.drop(col_names, axis=1)\n",
        "df = df.reset_index()\n",
        "df = df.drop(\"index\",axis=1)\n",
        "df.head()"
      ],
      "id": "e9b370ec"
    },
    {
      "cell_type": "markdown",
      "metadata": {
        "id": "o32viWRcOTbQ"
      },
      "source": [
        "##Droping Null Columns"
      ],
      "id": "o32viWRcOTbQ"
    },
    {
      "cell_type": "code",
      "execution_count": null,
      "metadata": {
        "id": "bc425d91",
        "colab": {
          "base_uri": "https://localhost:8080/"
        },
        "outputId": "73daea02-5fb8-4cc2-bb32-2639244ececa"
      },
      "outputs": [
        {
          "output_type": "execute_result",
          "data": {
            "text/plain": [
              "price        0\n",
              "location     0\n",
              "baths        0\n",
              "area_sqft    0\n",
              "bedrooms     0\n",
              "dtype: int64"
            ]
          },
          "metadata": {},
          "execution_count": 359
        }
      ],
      "source": [
        "df.isna().sum()"
      ],
      "id": "bc425d91"
    },
    {
      "cell_type": "code",
      "execution_count": null,
      "metadata": {
        "id": "61bc6945",
        "colab": {
          "base_uri": "https://localhost:8080/"
        },
        "outputId": "a5c9845b-fe65-4b7d-8350-39281a9f7700"
      },
      "outputs": [
        {
          "output_type": "execute_result",
          "data": {
            "text/plain": [
              "(58736, 5)"
            ]
          },
          "metadata": {},
          "execution_count": 360
        }
      ],
      "source": [
        "# importing matplotlib\n",
        "import matplotlib.pyplot as plt\n",
        "%matplotlib inline\n",
        "import matplotlib\n",
        "matplotlib.rcParams[\"figure.figsize\"] = (20,10)\n",
        "\n",
        "df.shape"
      ],
      "id": "61bc6945"
    },
    {
      "cell_type": "code",
      "execution_count": null,
      "metadata": {
        "id": "2bdf8f02",
        "colab": {
          "base_uri": "https://localhost:8080/"
        },
        "outputId": "6777b0e2-922d-45e6-9e6c-12445fcf389b"
      },
      "outputs": [
        {
          "output_type": "execute_result",
          "data": {
            "text/plain": [
              "array([ 0,  5,  3,  8,  6,  4,  2,  7,  1, 10, 11,  9, 14, 12, 13, 18, 15,\n",
              "       16, 25, 20])"
            ]
          },
          "metadata": {},
          "execution_count": 361
        }
      ],
      "source": [
        "df['bedrooms'].unique()"
      ],
      "id": "2bdf8f02"
    },
    {
      "cell_type": "markdown",
      "metadata": {
        "id": "1ebee5a7"
      },
      "source": [
        "# DATA CLEANING"
      ],
      "id": "1ebee5a7"
    },
    {
      "cell_type": "markdown",
      "metadata": {
        "id": "subX1MgyVG_B"
      },
      "source": [
        "##Exploring Odd Data"
      ],
      "id": "subX1MgyVG_B"
    },
    {
      "cell_type": "markdown",
      "metadata": {
        "id": "4805f216"
      },
      "source": [
        "As You can see in the above cell that there are some properties which have bedrooms even greater than 10...This could be possible that some of them could be typo error while others can be having other errors in them as well like very less baths or no baths...Lets inspect the properties that are having bedrooms more than 13"
      ],
      "id": "4805f216"
    },
    {
      "cell_type": "markdown",
      "metadata": {
        "id": "IV6atHFLVRt_"
      },
      "source": [
        "###More than 13 bedrooms"
      ],
      "id": "IV6atHFLVRt_"
    },
    {
      "cell_type": "code",
      "execution_count": null,
      "metadata": {
        "id": "e35fd8e5",
        "colab": {
          "base_uri": "https://localhost:8080/",
          "height": 465
        },
        "outputId": "e78c5875-8d03-4580-fdc9-fdac89c70c7f"
      },
      "outputs": [
        {
          "output_type": "execute_result",
          "data": {
            "text/plain": [
              "           price         location  baths  area_sqft  bedrooms\n",
              "1099   100000000      Garden Town      0   10890.04        14\n",
              "19710  650000000          Gulberg      0   25047.09        18\n",
              "21817  175000000       Shah Jamal      0   26136.10        15\n",
              "28454  350000000          Gulberg      0   17424.06        16\n",
              "38558  175000000       Shah Jamal      0   26136.10        15\n",
              "39985  960000000          Gulberg      0   43560.16        25\n",
              "51998  960000000          Gulberg      0   43560.16        25\n",
              "53342    1000000          Gulberg      0   21780.08        20\n",
              "57580     300000  Habibullah Road      0    8712.03        20"
            ],
            "text/html": [
              "\n",
              "  <div id=\"df-830582e9-771e-436d-9008-d6dfbcfef9c8\">\n",
              "    <div class=\"colab-df-container\">\n",
              "      <div>\n",
              "<style scoped>\n",
              "    .dataframe tbody tr th:only-of-type {\n",
              "        vertical-align: middle;\n",
              "    }\n",
              "\n",
              "    .dataframe tbody tr th {\n",
              "        vertical-align: top;\n",
              "    }\n",
              "\n",
              "    .dataframe thead th {\n",
              "        text-align: right;\n",
              "    }\n",
              "</style>\n",
              "<table border=\"1\" class=\"dataframe\">\n",
              "  <thead>\n",
              "    <tr style=\"text-align: right;\">\n",
              "      <th></th>\n",
              "      <th>price</th>\n",
              "      <th>location</th>\n",
              "      <th>baths</th>\n",
              "      <th>area_sqft</th>\n",
              "      <th>bedrooms</th>\n",
              "    </tr>\n",
              "  </thead>\n",
              "  <tbody>\n",
              "    <tr>\n",
              "      <th>1099</th>\n",
              "      <td>100000000</td>\n",
              "      <td>Garden Town</td>\n",
              "      <td>0</td>\n",
              "      <td>10890.04</td>\n",
              "      <td>14</td>\n",
              "    </tr>\n",
              "    <tr>\n",
              "      <th>19710</th>\n",
              "      <td>650000000</td>\n",
              "      <td>Gulberg</td>\n",
              "      <td>0</td>\n",
              "      <td>25047.09</td>\n",
              "      <td>18</td>\n",
              "    </tr>\n",
              "    <tr>\n",
              "      <th>21817</th>\n",
              "      <td>175000000</td>\n",
              "      <td>Shah Jamal</td>\n",
              "      <td>0</td>\n",
              "      <td>26136.10</td>\n",
              "      <td>15</td>\n",
              "    </tr>\n",
              "    <tr>\n",
              "      <th>28454</th>\n",
              "      <td>350000000</td>\n",
              "      <td>Gulberg</td>\n",
              "      <td>0</td>\n",
              "      <td>17424.06</td>\n",
              "      <td>16</td>\n",
              "    </tr>\n",
              "    <tr>\n",
              "      <th>38558</th>\n",
              "      <td>175000000</td>\n",
              "      <td>Shah Jamal</td>\n",
              "      <td>0</td>\n",
              "      <td>26136.10</td>\n",
              "      <td>15</td>\n",
              "    </tr>\n",
              "    <tr>\n",
              "      <th>39985</th>\n",
              "      <td>960000000</td>\n",
              "      <td>Gulberg</td>\n",
              "      <td>0</td>\n",
              "      <td>43560.16</td>\n",
              "      <td>25</td>\n",
              "    </tr>\n",
              "    <tr>\n",
              "      <th>51998</th>\n",
              "      <td>960000000</td>\n",
              "      <td>Gulberg</td>\n",
              "      <td>0</td>\n",
              "      <td>43560.16</td>\n",
              "      <td>25</td>\n",
              "    </tr>\n",
              "    <tr>\n",
              "      <th>53342</th>\n",
              "      <td>1000000</td>\n",
              "      <td>Gulberg</td>\n",
              "      <td>0</td>\n",
              "      <td>21780.08</td>\n",
              "      <td>20</td>\n",
              "    </tr>\n",
              "    <tr>\n",
              "      <th>57580</th>\n",
              "      <td>300000</td>\n",
              "      <td>Habibullah Road</td>\n",
              "      <td>0</td>\n",
              "      <td>8712.03</td>\n",
              "      <td>20</td>\n",
              "    </tr>\n",
              "  </tbody>\n",
              "</table>\n",
              "</div>\n",
              "      <button class=\"colab-df-convert\" onclick=\"convertToInteractive('df-830582e9-771e-436d-9008-d6dfbcfef9c8')\"\n",
              "              title=\"Convert this dataframe to an interactive table.\"\n",
              "              style=\"display:none;\">\n",
              "        \n",
              "  <svg xmlns=\"http://www.w3.org/2000/svg\" height=\"24px\"viewBox=\"0 0 24 24\"\n",
              "       width=\"24px\">\n",
              "    <path d=\"M0 0h24v24H0V0z\" fill=\"none\"/>\n",
              "    <path d=\"M18.56 5.44l.94 2.06.94-2.06 2.06-.94-2.06-.94-.94-2.06-.94 2.06-2.06.94zm-11 1L8.5 8.5l.94-2.06 2.06-.94-2.06-.94L8.5 2.5l-.94 2.06-2.06.94zm10 10l.94 2.06.94-2.06 2.06-.94-2.06-.94-.94-2.06-.94 2.06-2.06.94z\"/><path d=\"M17.41 7.96l-1.37-1.37c-.4-.4-.92-.59-1.43-.59-.52 0-1.04.2-1.43.59L10.3 9.45l-7.72 7.72c-.78.78-.78 2.05 0 2.83L4 21.41c.39.39.9.59 1.41.59.51 0 1.02-.2 1.41-.59l7.78-7.78 2.81-2.81c.8-.78.8-2.07 0-2.86zM5.41 20L4 18.59l7.72-7.72 1.47 1.35L5.41 20z\"/>\n",
              "  </svg>\n",
              "      </button>\n",
              "      \n",
              "  <style>\n",
              "    .colab-df-container {\n",
              "      display:flex;\n",
              "      flex-wrap:wrap;\n",
              "      gap: 12px;\n",
              "    }\n",
              "\n",
              "    .colab-df-convert {\n",
              "      background-color: #E8F0FE;\n",
              "      border: none;\n",
              "      border-radius: 50%;\n",
              "      cursor: pointer;\n",
              "      display: none;\n",
              "      fill: #1967D2;\n",
              "      height: 32px;\n",
              "      padding: 0 0 0 0;\n",
              "      width: 32px;\n",
              "    }\n",
              "\n",
              "    .colab-df-convert:hover {\n",
              "      background-color: #E2EBFA;\n",
              "      box-shadow: 0px 1px 2px rgba(60, 64, 67, 0.3), 0px 1px 3px 1px rgba(60, 64, 67, 0.15);\n",
              "      fill: #174EA6;\n",
              "    }\n",
              "\n",
              "    [theme=dark] .colab-df-convert {\n",
              "      background-color: #3B4455;\n",
              "      fill: #D2E3FC;\n",
              "    }\n",
              "\n",
              "    [theme=dark] .colab-df-convert:hover {\n",
              "      background-color: #434B5C;\n",
              "      box-shadow: 0px 1px 3px 1px rgba(0, 0, 0, 0.15);\n",
              "      filter: drop-shadow(0px 1px 2px rgba(0, 0, 0, 0.3));\n",
              "      fill: #FFFFFF;\n",
              "    }\n",
              "  </style>\n",
              "\n",
              "      <script>\n",
              "        const buttonEl =\n",
              "          document.querySelector('#df-830582e9-771e-436d-9008-d6dfbcfef9c8 button.colab-df-convert');\n",
              "        buttonEl.style.display =\n",
              "          google.colab.kernel.accessAllowed ? 'block' : 'none';\n",
              "\n",
              "        async function convertToInteractive(key) {\n",
              "          const element = document.querySelector('#df-830582e9-771e-436d-9008-d6dfbcfef9c8');\n",
              "          const dataTable =\n",
              "            await google.colab.kernel.invokeFunction('convertToInteractive',\n",
              "                                                     [key], {});\n",
              "          if (!dataTable) return;\n",
              "\n",
              "          const docLinkHtml = 'Like what you see? Visit the ' +\n",
              "            '<a target=\"_blank\" href=https://colab.research.google.com/notebooks/data_table.ipynb>data table notebook</a>'\n",
              "            + ' to learn more about interactive tables.';\n",
              "          element.innerHTML = '';\n",
              "          dataTable['output_type'] = 'display_data';\n",
              "          await google.colab.output.renderOutput(dataTable, element);\n",
              "          const docLink = document.createElement('div');\n",
              "          docLink.innerHTML = docLinkHtml;\n",
              "          element.appendChild(docLink);\n",
              "        }\n",
              "      </script>\n",
              "    </div>\n",
              "  </div>\n",
              "  "
            ]
          },
          "metadata": {},
          "execution_count": 362
        }
      ],
      "source": [
        "df[df['bedrooms']>13]"
      ],
      "id": "e35fd8e5"
    },
    {
      "cell_type": "markdown",
      "metadata": {
        "id": "e28229db"
      },
      "source": [
        "Notice how some of them are having no baths and some are having very less number of baths as compared to their bedrooms..."
      ],
      "id": "e28229db"
    },
    {
      "cell_type": "markdown",
      "metadata": {
        "id": "QsP6GHDmVZFO"
      },
      "source": [
        "###Zero bath"
      ],
      "id": "QsP6GHDmVZFO"
    },
    {
      "cell_type": "code",
      "execution_count": null,
      "metadata": {
        "id": "e00fd99c",
        "colab": {
          "base_uri": "https://localhost:8080/"
        },
        "outputId": "ea5d8883-d933-486d-826a-77065d4fb7e5"
      },
      "outputs": [
        {
          "output_type": "execute_result",
          "data": {
            "text/plain": [
              "array([ 0,  5,  7,  6,  4,  3,  2,  8,  1, 10,  9, 11, 12, 15])"
            ]
          },
          "metadata": {},
          "execution_count": 363
        }
      ],
      "source": [
        "df['baths'].unique()"
      ],
      "id": "e00fd99c"
    },
    {
      "cell_type": "markdown",
      "metadata": {
        "id": "bd5bf4ac"
      },
      "source": [
        "Also notice in the above cell that some properties are having upto 12 baths as well, this could be a typo error as well"
      ],
      "id": "bd5bf4ac"
    },
    {
      "cell_type": "markdown",
      "metadata": {
        "id": "F3FCXqfvVL1S"
      },
      "source": [
        "##Data Droping"
      ],
      "id": "F3FCXqfvVL1S"
    },
    {
      "cell_type": "markdown",
      "metadata": {
        "id": "7lXIKL2UViOu"
      },
      "source": [
        "###No Bath but Bedroom > 3"
      ],
      "id": "7lXIKL2UViOu"
    },
    {
      "cell_type": "code",
      "execution_count": null,
      "metadata": {
        "id": "92cccbd9",
        "colab": {
          "base_uri": "https://localhost:8080/",
          "height": 661
        },
        "outputId": "0470f43c-31e7-467f-aba4-1d81b9cb6341"
      },
      "outputs": [
        {
          "output_type": "execute_result",
          "data": {
            "text/plain": [
              "           price           location  baths  area_sqft  bedrooms\n",
              "0      220000000         Model Town      0   32670.12         0\n",
              "1       40000000        Multan Road      5    5445.02         5\n",
              "2        9500000               Eden      0    2450.26         3\n",
              "3      125000000            Gulberg      7    5445.02         8\n",
              "4       21000000  Allama Iqbal Town      5    2994.76         6\n",
              "...          ...                ...    ...        ...       ...\n",
              "58730      32000  Allama Iqbal Town      0    2722.51         2\n",
              "58732     185000        DHA Defence      6    5445.02         5\n",
              "58733     150000        DHA Defence      5    2722.51         4\n",
              "58734      70000        DHA Defence      3    5445.02         3\n",
              "58735      70000        Bahria Town      4    1361.25         3\n",
              "\n",
              "[54407 rows x 5 columns]"
            ],
            "text/html": [
              "\n",
              "  <div id=\"df-9730e9bf-3b6f-46d0-b92b-c953e3b5c9d2\">\n",
              "    <div class=\"colab-df-container\">\n",
              "      <div>\n",
              "<style scoped>\n",
              "    .dataframe tbody tr th:only-of-type {\n",
              "        vertical-align: middle;\n",
              "    }\n",
              "\n",
              "    .dataframe tbody tr th {\n",
              "        vertical-align: top;\n",
              "    }\n",
              "\n",
              "    .dataframe thead th {\n",
              "        text-align: right;\n",
              "    }\n",
              "</style>\n",
              "<table border=\"1\" class=\"dataframe\">\n",
              "  <thead>\n",
              "    <tr style=\"text-align: right;\">\n",
              "      <th></th>\n",
              "      <th>price</th>\n",
              "      <th>location</th>\n",
              "      <th>baths</th>\n",
              "      <th>area_sqft</th>\n",
              "      <th>bedrooms</th>\n",
              "    </tr>\n",
              "  </thead>\n",
              "  <tbody>\n",
              "    <tr>\n",
              "      <th>0</th>\n",
              "      <td>220000000</td>\n",
              "      <td>Model Town</td>\n",
              "      <td>0</td>\n",
              "      <td>32670.12</td>\n",
              "      <td>0</td>\n",
              "    </tr>\n",
              "    <tr>\n",
              "      <th>1</th>\n",
              "      <td>40000000</td>\n",
              "      <td>Multan Road</td>\n",
              "      <td>5</td>\n",
              "      <td>5445.02</td>\n",
              "      <td>5</td>\n",
              "    </tr>\n",
              "    <tr>\n",
              "      <th>2</th>\n",
              "      <td>9500000</td>\n",
              "      <td>Eden</td>\n",
              "      <td>0</td>\n",
              "      <td>2450.26</td>\n",
              "      <td>3</td>\n",
              "    </tr>\n",
              "    <tr>\n",
              "      <th>3</th>\n",
              "      <td>125000000</td>\n",
              "      <td>Gulberg</td>\n",
              "      <td>7</td>\n",
              "      <td>5445.02</td>\n",
              "      <td>8</td>\n",
              "    </tr>\n",
              "    <tr>\n",
              "      <th>4</th>\n",
              "      <td>21000000</td>\n",
              "      <td>Allama Iqbal Town</td>\n",
              "      <td>5</td>\n",
              "      <td>2994.76</td>\n",
              "      <td>6</td>\n",
              "    </tr>\n",
              "    <tr>\n",
              "      <th>...</th>\n",
              "      <td>...</td>\n",
              "      <td>...</td>\n",
              "      <td>...</td>\n",
              "      <td>...</td>\n",
              "      <td>...</td>\n",
              "    </tr>\n",
              "    <tr>\n",
              "      <th>58730</th>\n",
              "      <td>32000</td>\n",
              "      <td>Allama Iqbal Town</td>\n",
              "      <td>0</td>\n",
              "      <td>2722.51</td>\n",
              "      <td>2</td>\n",
              "    </tr>\n",
              "    <tr>\n",
              "      <th>58732</th>\n",
              "      <td>185000</td>\n",
              "      <td>DHA Defence</td>\n",
              "      <td>6</td>\n",
              "      <td>5445.02</td>\n",
              "      <td>5</td>\n",
              "    </tr>\n",
              "    <tr>\n",
              "      <th>58733</th>\n",
              "      <td>150000</td>\n",
              "      <td>DHA Defence</td>\n",
              "      <td>5</td>\n",
              "      <td>2722.51</td>\n",
              "      <td>4</td>\n",
              "    </tr>\n",
              "    <tr>\n",
              "      <th>58734</th>\n",
              "      <td>70000</td>\n",
              "      <td>DHA Defence</td>\n",
              "      <td>3</td>\n",
              "      <td>5445.02</td>\n",
              "      <td>3</td>\n",
              "    </tr>\n",
              "    <tr>\n",
              "      <th>58735</th>\n",
              "      <td>70000</td>\n",
              "      <td>Bahria Town</td>\n",
              "      <td>4</td>\n",
              "      <td>1361.25</td>\n",
              "      <td>3</td>\n",
              "    </tr>\n",
              "  </tbody>\n",
              "</table>\n",
              "<p>54407 rows × 5 columns</p>\n",
              "</div>\n",
              "      <button class=\"colab-df-convert\" onclick=\"convertToInteractive('df-9730e9bf-3b6f-46d0-b92b-c953e3b5c9d2')\"\n",
              "              title=\"Convert this dataframe to an interactive table.\"\n",
              "              style=\"display:none;\">\n",
              "        \n",
              "  <svg xmlns=\"http://www.w3.org/2000/svg\" height=\"24px\"viewBox=\"0 0 24 24\"\n",
              "       width=\"24px\">\n",
              "    <path d=\"M0 0h24v24H0V0z\" fill=\"none\"/>\n",
              "    <path d=\"M18.56 5.44l.94 2.06.94-2.06 2.06-.94-2.06-.94-.94-2.06-.94 2.06-2.06.94zm-11 1L8.5 8.5l.94-2.06 2.06-.94-2.06-.94L8.5 2.5l-.94 2.06-2.06.94zm10 10l.94 2.06.94-2.06 2.06-.94-2.06-.94-.94-2.06-.94 2.06-2.06.94z\"/><path d=\"M17.41 7.96l-1.37-1.37c-.4-.4-.92-.59-1.43-.59-.52 0-1.04.2-1.43.59L10.3 9.45l-7.72 7.72c-.78.78-.78 2.05 0 2.83L4 21.41c.39.39.9.59 1.41.59.51 0 1.02-.2 1.41-.59l7.78-7.78 2.81-2.81c.8-.78.8-2.07 0-2.86zM5.41 20L4 18.59l7.72-7.72 1.47 1.35L5.41 20z\"/>\n",
              "  </svg>\n",
              "      </button>\n",
              "      \n",
              "  <style>\n",
              "    .colab-df-container {\n",
              "      display:flex;\n",
              "      flex-wrap:wrap;\n",
              "      gap: 12px;\n",
              "    }\n",
              "\n",
              "    .colab-df-convert {\n",
              "      background-color: #E8F0FE;\n",
              "      border: none;\n",
              "      border-radius: 50%;\n",
              "      cursor: pointer;\n",
              "      display: none;\n",
              "      fill: #1967D2;\n",
              "      height: 32px;\n",
              "      padding: 0 0 0 0;\n",
              "      width: 32px;\n",
              "    }\n",
              "\n",
              "    .colab-df-convert:hover {\n",
              "      background-color: #E2EBFA;\n",
              "      box-shadow: 0px 1px 2px rgba(60, 64, 67, 0.3), 0px 1px 3px 1px rgba(60, 64, 67, 0.15);\n",
              "      fill: #174EA6;\n",
              "    }\n",
              "\n",
              "    [theme=dark] .colab-df-convert {\n",
              "      background-color: #3B4455;\n",
              "      fill: #D2E3FC;\n",
              "    }\n",
              "\n",
              "    [theme=dark] .colab-df-convert:hover {\n",
              "      background-color: #434B5C;\n",
              "      box-shadow: 0px 1px 3px 1px rgba(0, 0, 0, 0.15);\n",
              "      filter: drop-shadow(0px 1px 2px rgba(0, 0, 0, 0.3));\n",
              "      fill: #FFFFFF;\n",
              "    }\n",
              "  </style>\n",
              "\n",
              "      <script>\n",
              "        const buttonEl =\n",
              "          document.querySelector('#df-9730e9bf-3b6f-46d0-b92b-c953e3b5c9d2 button.colab-df-convert');\n",
              "        buttonEl.style.display =\n",
              "          google.colab.kernel.accessAllowed ? 'block' : 'none';\n",
              "\n",
              "        async function convertToInteractive(key) {\n",
              "          const element = document.querySelector('#df-9730e9bf-3b6f-46d0-b92b-c953e3b5c9d2');\n",
              "          const dataTable =\n",
              "            await google.colab.kernel.invokeFunction('convertToInteractive',\n",
              "                                                     [key], {});\n",
              "          if (!dataTable) return;\n",
              "\n",
              "          const docLinkHtml = 'Like what you see? Visit the ' +\n",
              "            '<a target=\"_blank\" href=https://colab.research.google.com/notebooks/data_table.ipynb>data table notebook</a>'\n",
              "            + ' to learn more about interactive tables.';\n",
              "          element.innerHTML = '';\n",
              "          dataTable['output_type'] = 'display_data';\n",
              "          await google.colab.output.renderOutput(dataTable, element);\n",
              "          const docLink = document.createElement('div');\n",
              "          docLink.innerHTML = docLinkHtml;\n",
              "          element.appendChild(docLink);\n",
              "        }\n",
              "      </script>\n",
              "    </div>\n",
              "  </div>\n",
              "  "
            ]
          },
          "metadata": {},
          "execution_count": 364
        }
      ],
      "source": [
        "df = df.drop(df[(df['baths']==0) & (df['bedrooms'] > 3)].index)\n",
        "df"
      ],
      "id": "92cccbd9"
    },
    {
      "cell_type": "markdown",
      "metadata": {
        "id": "b6202523"
      },
      "source": [
        "In the above cell we are dropping those indexes that are having no baths and having bedrooms greater than 3 cause they can probably be a typo error."
      ],
      "id": "b6202523"
    },
    {
      "cell_type": "markdown",
      "metadata": {
        "id": "R9DXdyPiV6J_"
      },
      "source": [
        "###No Bath or No Bedroom"
      ],
      "id": "R9DXdyPiV6J_"
    },
    {
      "cell_type": "code",
      "execution_count": null,
      "metadata": {
        "id": "ebc5c952"
      },
      "outputs": [],
      "source": [
        "df.drop(df[(df['bedrooms']==0) | (df['baths']==0)].index, inplace=True)"
      ],
      "id": "ebc5c952"
    },
    {
      "cell_type": "markdown",
      "metadata": {
        "id": "38288807"
      },
      "source": [
        "We are also dropping those properties that are either having no bedrooms or no baths in the above cell..."
      ],
      "id": "38288807"
    },
    {
      "cell_type": "markdown",
      "metadata": {
        "id": "PWj6pn24V-fV"
      },
      "source": [
        "###Bath More than Bedroom"
      ],
      "id": "PWj6pn24V-fV"
    },
    {
      "cell_type": "code",
      "execution_count": null,
      "metadata": {
        "id": "5d1b44a8",
        "colab": {
          "base_uri": "https://localhost:8080/",
          "height": 1000
        },
        "outputId": "53346d7e-1b57-41a0-9b30-97cda1b92c4d"
      },
      "outputs": [
        {
          "output_type": "execute_result",
          "data": {
            "text/plain": [
              "        price                           location  baths  area_sqft  bedrooms\n",
              "5    52000000                            Gulberg      6    5445.02         5\n",
              "6    16500000  Military Accounts Housing Society      7    2178.01         6\n",
              "11   87500000                         Upper Mall      5    6534.02         4\n",
              "17   50000000                        Agrics Town      7    4900.52         6\n",
              "19   27500000                             Askari      5    3267.01         4\n",
              "21   50000000                         Upper Mall      6    5445.02         5\n",
              "22   45000000                             Askari      6    5445.02         5\n",
              "24   21200000                             Askari      4    2722.51         3\n",
              "25   23000000                             Askari      5    2722.51         4\n",
              "26   21500000                             Askari      5    2722.51         4\n",
              "27   21500000                             Askari      5    2722.51         4\n",
              "28   40000000                             Askari      6    5445.02         5\n",
              "29   26000000                             Askari      5    2722.51         4\n",
              "31   23000000                             Askari      5    2722.51         4\n",
              "32   23000000                             Askari      6    2722.51         5\n",
              "36   50000000                            Gulberg      6    5445.02         5\n",
              "43   40000000                        EME Society      7    5445.02         6\n",
              "44  180000000                            Gulberg      7   25591.59         5\n",
              "45   17000000                      Mateen Avenue      6    2640.83         5\n",
              "48   25000000                 IEP Engineers Town      5    4900.52         4\n",
              "49   17600000                        Bahria Town      6    2722.51         5\n",
              "50   17500000                        Bahria Town      6    2722.51         5\n",
              "51   35000000                             Askari      5    4628.27         4\n",
              "52   22000000                             Askari      5    2722.51         4\n",
              "53   23500000                             Askari      6    2722.51         5"
            ],
            "text/html": [
              "\n",
              "  <div id=\"df-c2832e63-dd9d-4e77-83ed-c7a0fab0e06e\">\n",
              "    <div class=\"colab-df-container\">\n",
              "      <div>\n",
              "<style scoped>\n",
              "    .dataframe tbody tr th:only-of-type {\n",
              "        vertical-align: middle;\n",
              "    }\n",
              "\n",
              "    .dataframe tbody tr th {\n",
              "        vertical-align: top;\n",
              "    }\n",
              "\n",
              "    .dataframe thead th {\n",
              "        text-align: right;\n",
              "    }\n",
              "</style>\n",
              "<table border=\"1\" class=\"dataframe\">\n",
              "  <thead>\n",
              "    <tr style=\"text-align: right;\">\n",
              "      <th></th>\n",
              "      <th>price</th>\n",
              "      <th>location</th>\n",
              "      <th>baths</th>\n",
              "      <th>area_sqft</th>\n",
              "      <th>bedrooms</th>\n",
              "    </tr>\n",
              "  </thead>\n",
              "  <tbody>\n",
              "    <tr>\n",
              "      <th>5</th>\n",
              "      <td>52000000</td>\n",
              "      <td>Gulberg</td>\n",
              "      <td>6</td>\n",
              "      <td>5445.02</td>\n",
              "      <td>5</td>\n",
              "    </tr>\n",
              "    <tr>\n",
              "      <th>6</th>\n",
              "      <td>16500000</td>\n",
              "      <td>Military Accounts Housing Society</td>\n",
              "      <td>7</td>\n",
              "      <td>2178.01</td>\n",
              "      <td>6</td>\n",
              "    </tr>\n",
              "    <tr>\n",
              "      <th>11</th>\n",
              "      <td>87500000</td>\n",
              "      <td>Upper Mall</td>\n",
              "      <td>5</td>\n",
              "      <td>6534.02</td>\n",
              "      <td>4</td>\n",
              "    </tr>\n",
              "    <tr>\n",
              "      <th>17</th>\n",
              "      <td>50000000</td>\n",
              "      <td>Agrics Town</td>\n",
              "      <td>7</td>\n",
              "      <td>4900.52</td>\n",
              "      <td>6</td>\n",
              "    </tr>\n",
              "    <tr>\n",
              "      <th>19</th>\n",
              "      <td>27500000</td>\n",
              "      <td>Askari</td>\n",
              "      <td>5</td>\n",
              "      <td>3267.01</td>\n",
              "      <td>4</td>\n",
              "    </tr>\n",
              "    <tr>\n",
              "      <th>21</th>\n",
              "      <td>50000000</td>\n",
              "      <td>Upper Mall</td>\n",
              "      <td>6</td>\n",
              "      <td>5445.02</td>\n",
              "      <td>5</td>\n",
              "    </tr>\n",
              "    <tr>\n",
              "      <th>22</th>\n",
              "      <td>45000000</td>\n",
              "      <td>Askari</td>\n",
              "      <td>6</td>\n",
              "      <td>5445.02</td>\n",
              "      <td>5</td>\n",
              "    </tr>\n",
              "    <tr>\n",
              "      <th>24</th>\n",
              "      <td>21200000</td>\n",
              "      <td>Askari</td>\n",
              "      <td>4</td>\n",
              "      <td>2722.51</td>\n",
              "      <td>3</td>\n",
              "    </tr>\n",
              "    <tr>\n",
              "      <th>25</th>\n",
              "      <td>23000000</td>\n",
              "      <td>Askari</td>\n",
              "      <td>5</td>\n",
              "      <td>2722.51</td>\n",
              "      <td>4</td>\n",
              "    </tr>\n",
              "    <tr>\n",
              "      <th>26</th>\n",
              "      <td>21500000</td>\n",
              "      <td>Askari</td>\n",
              "      <td>5</td>\n",
              "      <td>2722.51</td>\n",
              "      <td>4</td>\n",
              "    </tr>\n",
              "    <tr>\n",
              "      <th>27</th>\n",
              "      <td>21500000</td>\n",
              "      <td>Askari</td>\n",
              "      <td>5</td>\n",
              "      <td>2722.51</td>\n",
              "      <td>4</td>\n",
              "    </tr>\n",
              "    <tr>\n",
              "      <th>28</th>\n",
              "      <td>40000000</td>\n",
              "      <td>Askari</td>\n",
              "      <td>6</td>\n",
              "      <td>5445.02</td>\n",
              "      <td>5</td>\n",
              "    </tr>\n",
              "    <tr>\n",
              "      <th>29</th>\n",
              "      <td>26000000</td>\n",
              "      <td>Askari</td>\n",
              "      <td>5</td>\n",
              "      <td>2722.51</td>\n",
              "      <td>4</td>\n",
              "    </tr>\n",
              "    <tr>\n",
              "      <th>31</th>\n",
              "      <td>23000000</td>\n",
              "      <td>Askari</td>\n",
              "      <td>5</td>\n",
              "      <td>2722.51</td>\n",
              "      <td>4</td>\n",
              "    </tr>\n",
              "    <tr>\n",
              "      <th>32</th>\n",
              "      <td>23000000</td>\n",
              "      <td>Askari</td>\n",
              "      <td>6</td>\n",
              "      <td>2722.51</td>\n",
              "      <td>5</td>\n",
              "    </tr>\n",
              "    <tr>\n",
              "      <th>36</th>\n",
              "      <td>50000000</td>\n",
              "      <td>Gulberg</td>\n",
              "      <td>6</td>\n",
              "      <td>5445.02</td>\n",
              "      <td>5</td>\n",
              "    </tr>\n",
              "    <tr>\n",
              "      <th>43</th>\n",
              "      <td>40000000</td>\n",
              "      <td>EME Society</td>\n",
              "      <td>7</td>\n",
              "      <td>5445.02</td>\n",
              "      <td>6</td>\n",
              "    </tr>\n",
              "    <tr>\n",
              "      <th>44</th>\n",
              "      <td>180000000</td>\n",
              "      <td>Gulberg</td>\n",
              "      <td>7</td>\n",
              "      <td>25591.59</td>\n",
              "      <td>5</td>\n",
              "    </tr>\n",
              "    <tr>\n",
              "      <th>45</th>\n",
              "      <td>17000000</td>\n",
              "      <td>Mateen Avenue</td>\n",
              "      <td>6</td>\n",
              "      <td>2640.83</td>\n",
              "      <td>5</td>\n",
              "    </tr>\n",
              "    <tr>\n",
              "      <th>48</th>\n",
              "      <td>25000000</td>\n",
              "      <td>IEP Engineers Town</td>\n",
              "      <td>5</td>\n",
              "      <td>4900.52</td>\n",
              "      <td>4</td>\n",
              "    </tr>\n",
              "    <tr>\n",
              "      <th>49</th>\n",
              "      <td>17600000</td>\n",
              "      <td>Bahria Town</td>\n",
              "      <td>6</td>\n",
              "      <td>2722.51</td>\n",
              "      <td>5</td>\n",
              "    </tr>\n",
              "    <tr>\n",
              "      <th>50</th>\n",
              "      <td>17500000</td>\n",
              "      <td>Bahria Town</td>\n",
              "      <td>6</td>\n",
              "      <td>2722.51</td>\n",
              "      <td>5</td>\n",
              "    </tr>\n",
              "    <tr>\n",
              "      <th>51</th>\n",
              "      <td>35000000</td>\n",
              "      <td>Askari</td>\n",
              "      <td>5</td>\n",
              "      <td>4628.27</td>\n",
              "      <td>4</td>\n",
              "    </tr>\n",
              "    <tr>\n",
              "      <th>52</th>\n",
              "      <td>22000000</td>\n",
              "      <td>Askari</td>\n",
              "      <td>5</td>\n",
              "      <td>2722.51</td>\n",
              "      <td>4</td>\n",
              "    </tr>\n",
              "    <tr>\n",
              "      <th>53</th>\n",
              "      <td>23500000</td>\n",
              "      <td>Askari</td>\n",
              "      <td>6</td>\n",
              "      <td>2722.51</td>\n",
              "      <td>5</td>\n",
              "    </tr>\n",
              "  </tbody>\n",
              "</table>\n",
              "</div>\n",
              "      <button class=\"colab-df-convert\" onclick=\"convertToInteractive('df-c2832e63-dd9d-4e77-83ed-c7a0fab0e06e')\"\n",
              "              title=\"Convert this dataframe to an interactive table.\"\n",
              "              style=\"display:none;\">\n",
              "        \n",
              "  <svg xmlns=\"http://www.w3.org/2000/svg\" height=\"24px\"viewBox=\"0 0 24 24\"\n",
              "       width=\"24px\">\n",
              "    <path d=\"M0 0h24v24H0V0z\" fill=\"none\"/>\n",
              "    <path d=\"M18.56 5.44l.94 2.06.94-2.06 2.06-.94-2.06-.94-.94-2.06-.94 2.06-2.06.94zm-11 1L8.5 8.5l.94-2.06 2.06-.94-2.06-.94L8.5 2.5l-.94 2.06-2.06.94zm10 10l.94 2.06.94-2.06 2.06-.94-2.06-.94-.94-2.06-.94 2.06-2.06.94z\"/><path d=\"M17.41 7.96l-1.37-1.37c-.4-.4-.92-.59-1.43-.59-.52 0-1.04.2-1.43.59L10.3 9.45l-7.72 7.72c-.78.78-.78 2.05 0 2.83L4 21.41c.39.39.9.59 1.41.59.51 0 1.02-.2 1.41-.59l7.78-7.78 2.81-2.81c.8-.78.8-2.07 0-2.86zM5.41 20L4 18.59l7.72-7.72 1.47 1.35L5.41 20z\"/>\n",
              "  </svg>\n",
              "      </button>\n",
              "      \n",
              "  <style>\n",
              "    .colab-df-container {\n",
              "      display:flex;\n",
              "      flex-wrap:wrap;\n",
              "      gap: 12px;\n",
              "    }\n",
              "\n",
              "    .colab-df-convert {\n",
              "      background-color: #E8F0FE;\n",
              "      border: none;\n",
              "      border-radius: 50%;\n",
              "      cursor: pointer;\n",
              "      display: none;\n",
              "      fill: #1967D2;\n",
              "      height: 32px;\n",
              "      padding: 0 0 0 0;\n",
              "      width: 32px;\n",
              "    }\n",
              "\n",
              "    .colab-df-convert:hover {\n",
              "      background-color: #E2EBFA;\n",
              "      box-shadow: 0px 1px 2px rgba(60, 64, 67, 0.3), 0px 1px 3px 1px rgba(60, 64, 67, 0.15);\n",
              "      fill: #174EA6;\n",
              "    }\n",
              "\n",
              "    [theme=dark] .colab-df-convert {\n",
              "      background-color: #3B4455;\n",
              "      fill: #D2E3FC;\n",
              "    }\n",
              "\n",
              "    [theme=dark] .colab-df-convert:hover {\n",
              "      background-color: #434B5C;\n",
              "      box-shadow: 0px 1px 3px 1px rgba(0, 0, 0, 0.15);\n",
              "      filter: drop-shadow(0px 1px 2px rgba(0, 0, 0, 0.3));\n",
              "      fill: #FFFFFF;\n",
              "    }\n",
              "  </style>\n",
              "\n",
              "      <script>\n",
              "        const buttonEl =\n",
              "          document.querySelector('#df-c2832e63-dd9d-4e77-83ed-c7a0fab0e06e button.colab-df-convert');\n",
              "        buttonEl.style.display =\n",
              "          google.colab.kernel.accessAllowed ? 'block' : 'none';\n",
              "\n",
              "        async function convertToInteractive(key) {\n",
              "          const element = document.querySelector('#df-c2832e63-dd9d-4e77-83ed-c7a0fab0e06e');\n",
              "          const dataTable =\n",
              "            await google.colab.kernel.invokeFunction('convertToInteractive',\n",
              "                                                     [key], {});\n",
              "          if (!dataTable) return;\n",
              "\n",
              "          const docLinkHtml = 'Like what you see? Visit the ' +\n",
              "            '<a target=\"_blank\" href=https://colab.research.google.com/notebooks/data_table.ipynb>data table notebook</a>'\n",
              "            + ' to learn more about interactive tables.';\n",
              "          element.innerHTML = '';\n",
              "          dataTable['output_type'] = 'display_data';\n",
              "          await google.colab.output.renderOutput(dataTable, element);\n",
              "          const docLink = document.createElement('div');\n",
              "          docLink.innerHTML = docLinkHtml;\n",
              "          element.appendChild(docLink);\n",
              "        }\n",
              "      </script>\n",
              "    </div>\n",
              "  </div>\n",
              "  "
            ]
          },
          "metadata": {},
          "execution_count": 366
        }
      ],
      "source": [
        "df[df[\"baths\"] > df[\"bedrooms\"]].head(25)"
      ],
      "id": "5d1b44a8"
    },
    {
      "cell_type": "markdown",
      "metadata": {
        "id": "3d0c5a5b"
      },
      "source": [
        "There are some homes that are having more number of baths as compared to its bedrooms which is quite uncommon..."
      ],
      "id": "3d0c5a5b"
    },
    {
      "cell_type": "markdown",
      "metadata": {
        "id": "82f7d9bd"
      },
      "source": [
        "## OUTLIERS DETECTION AND REMOVALS:"
      ],
      "id": "82f7d9bd"
    },
    {
      "cell_type": "markdown",
      "metadata": {
        "id": "bOdNwAtFWcDH"
      },
      "source": [
        "###Adding per square foot column"
      ],
      "id": "bOdNwAtFWcDH"
    },
    {
      "cell_type": "code",
      "execution_count": null,
      "metadata": {
        "id": "0a6e58f0",
        "colab": {
          "base_uri": "https://localhost:8080/",
          "height": 374
        },
        "outputId": "78b7f3ec-ac3f-48de-c999-8d003c9d8d90"
      },
      "outputs": [
        {
          "output_type": "execute_result",
          "data": {
            "text/plain": [
              "       price                           location  baths  area_sqft  bedrooms  \\\n",
              "1   40000000                        Multan Road      5    5445.02         5   \n",
              "3  125000000                            Gulberg      7    5445.02         8   \n",
              "4   21000000                  Allama Iqbal Town      5    2994.76         6   \n",
              "5   52000000                            Gulberg      6    5445.02         5   \n",
              "6   16500000  Military Accounts Housing Society      7    2178.01         6   \n",
              "\n",
              "   price_per_sqft  \n",
              "1     7346.162181  \n",
              "3    22956.756816  \n",
              "4     7012.248060  \n",
              "5     9550.010836  \n",
              "6     7575.722793  "
            ],
            "text/html": [
              "\n",
              "  <div id=\"df-ee77abd7-d2f5-4ded-9bd5-5c56846f818f\">\n",
              "    <div class=\"colab-df-container\">\n",
              "      <div>\n",
              "<style scoped>\n",
              "    .dataframe tbody tr th:only-of-type {\n",
              "        vertical-align: middle;\n",
              "    }\n",
              "\n",
              "    .dataframe tbody tr th {\n",
              "        vertical-align: top;\n",
              "    }\n",
              "\n",
              "    .dataframe thead th {\n",
              "        text-align: right;\n",
              "    }\n",
              "</style>\n",
              "<table border=\"1\" class=\"dataframe\">\n",
              "  <thead>\n",
              "    <tr style=\"text-align: right;\">\n",
              "      <th></th>\n",
              "      <th>price</th>\n",
              "      <th>location</th>\n",
              "      <th>baths</th>\n",
              "      <th>area_sqft</th>\n",
              "      <th>bedrooms</th>\n",
              "      <th>price_per_sqft</th>\n",
              "    </tr>\n",
              "  </thead>\n",
              "  <tbody>\n",
              "    <tr>\n",
              "      <th>1</th>\n",
              "      <td>40000000</td>\n",
              "      <td>Multan Road</td>\n",
              "      <td>5</td>\n",
              "      <td>5445.02</td>\n",
              "      <td>5</td>\n",
              "      <td>7346.162181</td>\n",
              "    </tr>\n",
              "    <tr>\n",
              "      <th>3</th>\n",
              "      <td>125000000</td>\n",
              "      <td>Gulberg</td>\n",
              "      <td>7</td>\n",
              "      <td>5445.02</td>\n",
              "      <td>8</td>\n",
              "      <td>22956.756816</td>\n",
              "    </tr>\n",
              "    <tr>\n",
              "      <th>4</th>\n",
              "      <td>21000000</td>\n",
              "      <td>Allama Iqbal Town</td>\n",
              "      <td>5</td>\n",
              "      <td>2994.76</td>\n",
              "      <td>6</td>\n",
              "      <td>7012.248060</td>\n",
              "    </tr>\n",
              "    <tr>\n",
              "      <th>5</th>\n",
              "      <td>52000000</td>\n",
              "      <td>Gulberg</td>\n",
              "      <td>6</td>\n",
              "      <td>5445.02</td>\n",
              "      <td>5</td>\n",
              "      <td>9550.010836</td>\n",
              "    </tr>\n",
              "    <tr>\n",
              "      <th>6</th>\n",
              "      <td>16500000</td>\n",
              "      <td>Military Accounts Housing Society</td>\n",
              "      <td>7</td>\n",
              "      <td>2178.01</td>\n",
              "      <td>6</td>\n",
              "      <td>7575.722793</td>\n",
              "    </tr>\n",
              "  </tbody>\n",
              "</table>\n",
              "</div>\n",
              "      <button class=\"colab-df-convert\" onclick=\"convertToInteractive('df-ee77abd7-d2f5-4ded-9bd5-5c56846f818f')\"\n",
              "              title=\"Convert this dataframe to an interactive table.\"\n",
              "              style=\"display:none;\">\n",
              "        \n",
              "  <svg xmlns=\"http://www.w3.org/2000/svg\" height=\"24px\"viewBox=\"0 0 24 24\"\n",
              "       width=\"24px\">\n",
              "    <path d=\"M0 0h24v24H0V0z\" fill=\"none\"/>\n",
              "    <path d=\"M18.56 5.44l.94 2.06.94-2.06 2.06-.94-2.06-.94-.94-2.06-.94 2.06-2.06.94zm-11 1L8.5 8.5l.94-2.06 2.06-.94-2.06-.94L8.5 2.5l-.94 2.06-2.06.94zm10 10l.94 2.06.94-2.06 2.06-.94-2.06-.94-.94-2.06-.94 2.06-2.06.94z\"/><path d=\"M17.41 7.96l-1.37-1.37c-.4-.4-.92-.59-1.43-.59-.52 0-1.04.2-1.43.59L10.3 9.45l-7.72 7.72c-.78.78-.78 2.05 0 2.83L4 21.41c.39.39.9.59 1.41.59.51 0 1.02-.2 1.41-.59l7.78-7.78 2.81-2.81c.8-.78.8-2.07 0-2.86zM5.41 20L4 18.59l7.72-7.72 1.47 1.35L5.41 20z\"/>\n",
              "  </svg>\n",
              "      </button>\n",
              "      \n",
              "  <style>\n",
              "    .colab-df-container {\n",
              "      display:flex;\n",
              "      flex-wrap:wrap;\n",
              "      gap: 12px;\n",
              "    }\n",
              "\n",
              "    .colab-df-convert {\n",
              "      background-color: #E8F0FE;\n",
              "      border: none;\n",
              "      border-radius: 50%;\n",
              "      cursor: pointer;\n",
              "      display: none;\n",
              "      fill: #1967D2;\n",
              "      height: 32px;\n",
              "      padding: 0 0 0 0;\n",
              "      width: 32px;\n",
              "    }\n",
              "\n",
              "    .colab-df-convert:hover {\n",
              "      background-color: #E2EBFA;\n",
              "      box-shadow: 0px 1px 2px rgba(60, 64, 67, 0.3), 0px 1px 3px 1px rgba(60, 64, 67, 0.15);\n",
              "      fill: #174EA6;\n",
              "    }\n",
              "\n",
              "    [theme=dark] .colab-df-convert {\n",
              "      background-color: #3B4455;\n",
              "      fill: #D2E3FC;\n",
              "    }\n",
              "\n",
              "    [theme=dark] .colab-df-convert:hover {\n",
              "      background-color: #434B5C;\n",
              "      box-shadow: 0px 1px 3px 1px rgba(0, 0, 0, 0.15);\n",
              "      filter: drop-shadow(0px 1px 2px rgba(0, 0, 0, 0.3));\n",
              "      fill: #FFFFFF;\n",
              "    }\n",
              "  </style>\n",
              "\n",
              "      <script>\n",
              "        const buttonEl =\n",
              "          document.querySelector('#df-ee77abd7-d2f5-4ded-9bd5-5c56846f818f button.colab-df-convert');\n",
              "        buttonEl.style.display =\n",
              "          google.colab.kernel.accessAllowed ? 'block' : 'none';\n",
              "\n",
              "        async function convertToInteractive(key) {\n",
              "          const element = document.querySelector('#df-ee77abd7-d2f5-4ded-9bd5-5c56846f818f');\n",
              "          const dataTable =\n",
              "            await google.colab.kernel.invokeFunction('convertToInteractive',\n",
              "                                                     [key], {});\n",
              "          if (!dataTable) return;\n",
              "\n",
              "          const docLinkHtml = 'Like what you see? Visit the ' +\n",
              "            '<a target=\"_blank\" href=https://colab.research.google.com/notebooks/data_table.ipynb>data table notebook</a>'\n",
              "            + ' to learn more about interactive tables.';\n",
              "          element.innerHTML = '';\n",
              "          dataTable['output_type'] = 'display_data';\n",
              "          await google.colab.output.renderOutput(dataTable, element);\n",
              "          const docLink = document.createElement('div');\n",
              "          docLink.innerHTML = docLinkHtml;\n",
              "          element.appendChild(docLink);\n",
              "        }\n",
              "      </script>\n",
              "    </div>\n",
              "  </div>\n",
              "  "
            ]
          },
          "metadata": {},
          "execution_count": 367
        }
      ],
      "source": [
        "df['price_per_sqft'] = df['price'] / df['area_sqft']\n",
        "df.head()"
      ],
      "id": "0a6e58f0"
    },
    {
      "cell_type": "markdown",
      "metadata": {
        "id": "4c991432"
      },
      "source": [
        "We have add a column of price_per_sqft for our feature engineering so that we can remove the outliers from our data...."
      ],
      "id": "4c991432"
    },
    {
      "cell_type": "markdown",
      "metadata": {
        "id": "0oL7tzWVWjdE"
      },
      "source": [
        "###Locations in Lahore"
      ],
      "id": "0oL7tzWVWjdE"
    },
    {
      "cell_type": "code",
      "execution_count": null,
      "metadata": {
        "id": "333902b0",
        "colab": {
          "base_uri": "https://localhost:8080/"
        },
        "outputId": "d88c5d03-225a-4c78-fc93-e2bff291f571"
      },
      "outputs": [
        {
          "output_type": "execute_result",
          "data": {
            "text/plain": [
              "618"
            ]
          },
          "metadata": {},
          "execution_count": 368
        }
      ],
      "source": [
        "len(df['location'].unique())"
      ],
      "id": "333902b0"
    },
    {
      "cell_type": "markdown",
      "metadata": {
        "id": "5ZMFHL4kWoz_"
      },
      "source": [
        "###Locations and no. of houses there"
      ],
      "id": "5ZMFHL4kWoz_"
    },
    {
      "cell_type": "code",
      "execution_count": null,
      "metadata": {
        "id": "d3c80727",
        "colab": {
          "base_uri": "https://localhost:8080/"
        },
        "outputId": "8bf3f3d1-b202-47a0-fcb9-58ab6c1447e8"
      },
      "outputs": [
        {
          "output_type": "execute_result",
          "data": {
            "text/plain": [
              "location\n",
              "DHA Defence                             10188\n",
              "Bahria Town                              5846\n",
              "Johar Town                               2503\n",
              "Askari                                   1523\n",
              "Wapda Town                               1176\n",
              "Allama Iqbal Town                        1052\n",
              "State Life Housing Society               1031\n",
              "Gulberg                                  1012\n",
              "Model Town                                776\n",
              "Cantt                                     764\n",
              "Al Rehman Garden                          707\n",
              "Paragon City                              579\n",
              "Bahria Orchard                            565\n",
              "Pak Arab Housing Society                  534\n",
              "Sabzazar Scheme                           484\n",
              "Eden                                      460\n",
              "Valencia Housing Society                  451\n",
              "DHA 11 Rahbar                             439\n",
              "Lalazaar Garden                           390\n",
              "Lake City                                 376\n",
              "Samanabad                                 369\n",
              "Gulshan-e-Ravi                            360\n",
              "Township                                  359\n",
              "Military Accounts Housing Society         355\n",
              "EME Society                               354\n",
              "Park View Villas                          350\n",
              "Lahore Medical Housing Society            317\n",
              "Punjab Coop Housing Society               305\n",
              "Canal Garden                              290\n",
              "PIA Housing Scheme                        249\n",
              "Garden Town                               248\n",
              "Al-Kabir Town                             242\n",
              "Harbanspura                               240\n",
              "Khayaban-e-Amin                           235\n",
              "Tariq Gardens                             231\n",
              "Faisal Town                               223\n",
              "Jubilee Town                              214\n",
              "Cavalry Ground                            205\n",
              "Punjab Govt Employees Society             195\n",
              "Architects Engineers Housing Society      191\n",
              "Name: location, dtype: int64"
            ]
          },
          "metadata": {},
          "execution_count": 369
        }
      ],
      "source": [
        "df['location'] = df['location'].apply(lambda x: x.strip())\n",
        "location_stats = df.groupby('location')['location'].agg('count').sort_values(ascending=False)\n",
        "location_stats.head(40)"
      ],
      "id": "d3c80727"
    },
    {
      "cell_type": "markdown",
      "metadata": {
        "id": "bORtwDJzWvtd"
      },
      "source": [
        "###Locations with less than 10 houses"
      ],
      "id": "bORtwDJzWvtd"
    },
    {
      "cell_type": "code",
      "execution_count": null,
      "metadata": {
        "id": "0c6a09e5",
        "colab": {
          "base_uri": "https://localhost:8080/"
        },
        "outputId": "75ba7a7b-dfc5-41f2-a88f-663e51a55a33"
      },
      "outputs": [
        {
          "output_type": "execute_result",
          "data": {
            "text/plain": [
              "365"
            ]
          },
          "metadata": {},
          "execution_count": 370
        }
      ],
      "source": [
        "len(location_stats[location_stats <= 10])"
      ],
      "id": "0c6a09e5"
    },
    {
      "cell_type": "markdown",
      "metadata": {
        "id": "832acba8"
      },
      "source": [
        "Here we have 365 locations that are having properties less than 10 so we can categorize them as others which will help us in dimensionality reduction in our machine learning model."
      ],
      "id": "832acba8"
    },
    {
      "cell_type": "code",
      "execution_count": null,
      "metadata": {
        "id": "142b0396"
      },
      "outputs": [],
      "source": [
        "locations_less_than_10 = location_stats[location_stats <= 10]\n",
        "df['location'] = df['location'].apply(lambda x:'others' if x in locations_less_than_10 else x)"
      ],
      "id": "142b0396"
    },
    {
      "cell_type": "code",
      "execution_count": null,
      "metadata": {
        "id": "08f8e710",
        "colab": {
          "base_uri": "https://localhost:8080/"
        },
        "outputId": "44049d93-d2de-4aac-cbf4-1be1bfa0fce0"
      },
      "outputs": [
        {
          "output_type": "execute_result",
          "data": {
            "text/plain": [
              "254"
            ]
          },
          "metadata": {},
          "execution_count": 372
        }
      ],
      "source": [
        "df['location'].nunique()"
      ],
      "id": "08f8e710"
    },
    {
      "cell_type": "markdown",
      "metadata": {
        "id": "17863aa6"
      },
      "source": [
        "Firstly there were 199 unique locations and now we are having only 56 unique locations after dimensionality reduction\n",
        "Now we have only 254 locations with less the 10 properties. Before the number was 365."
      ],
      "id": "17863aa6"
    },
    {
      "cell_type": "markdown",
      "metadata": {
        "id": "DmVykbDDX1wn"
      },
      "source": [
        "###Area Sq. Feet"
      ],
      "id": "DmVykbDDX1wn"
    },
    {
      "cell_type": "code",
      "execution_count": null,
      "metadata": {
        "id": "833616e7",
        "colab": {
          "base_uri": "https://localhost:8080/",
          "height": 609
        },
        "outputId": "9822ff92-c2ff-4c6c-d7ec-28fc4c932377"
      },
      "outputs": [
        {
          "output_type": "execute_result",
          "data": {
            "text/plain": [
              "         price           location  baths  area_sqft  bedrooms  price_per_sqft\n",
              "23     3200000  Chungi Amar Sadhu      2     816.75         3     3917.967554\n",
              "35     5500000             others      3     680.63         3     8080.748718\n",
              "71     6000000  Allama Iqbal Town      2     544.50         3    11019.283747\n",
              "72     5500000  Allama Iqbal Town      2     544.50         3    10101.010101\n",
              "119    4500000     Al Faisal Town      3     544.50         3     8264.462810\n",
              "...        ...                ...    ...        ...       ...             ...\n",
              "58453  3300000         Mughalpura      2     272.25         2    12121.212121\n",
              "58496    25000        DHA Defence      1     272.25         1       91.827365\n",
              "58503    22000        DHA Defence      1     299.48         1       73.460665\n",
              "58519     8500            Gulberg      1     299.48         1       28.382530\n",
              "58523     6000            Gulberg      1     299.48         1       20.034727\n",
              "\n",
              "[6097 rows x 6 columns]"
            ],
            "text/html": [
              "\n",
              "  <div id=\"df-17bedbff-1fc1-4575-91f3-6309eed489c6\">\n",
              "    <div class=\"colab-df-container\">\n",
              "      <div>\n",
              "<style scoped>\n",
              "    .dataframe tbody tr th:only-of-type {\n",
              "        vertical-align: middle;\n",
              "    }\n",
              "\n",
              "    .dataframe tbody tr th {\n",
              "        vertical-align: top;\n",
              "    }\n",
              "\n",
              "    .dataframe thead th {\n",
              "        text-align: right;\n",
              "    }\n",
              "</style>\n",
              "<table border=\"1\" class=\"dataframe\">\n",
              "  <thead>\n",
              "    <tr style=\"text-align: right;\">\n",
              "      <th></th>\n",
              "      <th>price</th>\n",
              "      <th>location</th>\n",
              "      <th>baths</th>\n",
              "      <th>area_sqft</th>\n",
              "      <th>bedrooms</th>\n",
              "      <th>price_per_sqft</th>\n",
              "    </tr>\n",
              "  </thead>\n",
              "  <tbody>\n",
              "    <tr>\n",
              "      <th>23</th>\n",
              "      <td>3200000</td>\n",
              "      <td>Chungi Amar Sadhu</td>\n",
              "      <td>2</td>\n",
              "      <td>816.75</td>\n",
              "      <td>3</td>\n",
              "      <td>3917.967554</td>\n",
              "    </tr>\n",
              "    <tr>\n",
              "      <th>35</th>\n",
              "      <td>5500000</td>\n",
              "      <td>others</td>\n",
              "      <td>3</td>\n",
              "      <td>680.63</td>\n",
              "      <td>3</td>\n",
              "      <td>8080.748718</td>\n",
              "    </tr>\n",
              "    <tr>\n",
              "      <th>71</th>\n",
              "      <td>6000000</td>\n",
              "      <td>Allama Iqbal Town</td>\n",
              "      <td>2</td>\n",
              "      <td>544.50</td>\n",
              "      <td>3</td>\n",
              "      <td>11019.283747</td>\n",
              "    </tr>\n",
              "    <tr>\n",
              "      <th>72</th>\n",
              "      <td>5500000</td>\n",
              "      <td>Allama Iqbal Town</td>\n",
              "      <td>2</td>\n",
              "      <td>544.50</td>\n",
              "      <td>3</td>\n",
              "      <td>10101.010101</td>\n",
              "    </tr>\n",
              "    <tr>\n",
              "      <th>119</th>\n",
              "      <td>4500000</td>\n",
              "      <td>Al Faisal Town</td>\n",
              "      <td>3</td>\n",
              "      <td>544.50</td>\n",
              "      <td>3</td>\n",
              "      <td>8264.462810</td>\n",
              "    </tr>\n",
              "    <tr>\n",
              "      <th>...</th>\n",
              "      <td>...</td>\n",
              "      <td>...</td>\n",
              "      <td>...</td>\n",
              "      <td>...</td>\n",
              "      <td>...</td>\n",
              "      <td>...</td>\n",
              "    </tr>\n",
              "    <tr>\n",
              "      <th>58453</th>\n",
              "      <td>3300000</td>\n",
              "      <td>Mughalpura</td>\n",
              "      <td>2</td>\n",
              "      <td>272.25</td>\n",
              "      <td>2</td>\n",
              "      <td>12121.212121</td>\n",
              "    </tr>\n",
              "    <tr>\n",
              "      <th>58496</th>\n",
              "      <td>25000</td>\n",
              "      <td>DHA Defence</td>\n",
              "      <td>1</td>\n",
              "      <td>272.25</td>\n",
              "      <td>1</td>\n",
              "      <td>91.827365</td>\n",
              "    </tr>\n",
              "    <tr>\n",
              "      <th>58503</th>\n",
              "      <td>22000</td>\n",
              "      <td>DHA Defence</td>\n",
              "      <td>1</td>\n",
              "      <td>299.48</td>\n",
              "      <td>1</td>\n",
              "      <td>73.460665</td>\n",
              "    </tr>\n",
              "    <tr>\n",
              "      <th>58519</th>\n",
              "      <td>8500</td>\n",
              "      <td>Gulberg</td>\n",
              "      <td>1</td>\n",
              "      <td>299.48</td>\n",
              "      <td>1</td>\n",
              "      <td>28.382530</td>\n",
              "    </tr>\n",
              "    <tr>\n",
              "      <th>58523</th>\n",
              "      <td>6000</td>\n",
              "      <td>Gulberg</td>\n",
              "      <td>1</td>\n",
              "      <td>299.48</td>\n",
              "      <td>1</td>\n",
              "      <td>20.034727</td>\n",
              "    </tr>\n",
              "  </tbody>\n",
              "</table>\n",
              "<p>6097 rows × 6 columns</p>\n",
              "</div>\n",
              "      <button class=\"colab-df-convert\" onclick=\"convertToInteractive('df-17bedbff-1fc1-4575-91f3-6309eed489c6')\"\n",
              "              title=\"Convert this dataframe to an interactive table.\"\n",
              "              style=\"display:none;\">\n",
              "        \n",
              "  <svg xmlns=\"http://www.w3.org/2000/svg\" height=\"24px\"viewBox=\"0 0 24 24\"\n",
              "       width=\"24px\">\n",
              "    <path d=\"M0 0h24v24H0V0z\" fill=\"none\"/>\n",
              "    <path d=\"M18.56 5.44l.94 2.06.94-2.06 2.06-.94-2.06-.94-.94-2.06-.94 2.06-2.06.94zm-11 1L8.5 8.5l.94-2.06 2.06-.94-2.06-.94L8.5 2.5l-.94 2.06-2.06.94zm10 10l.94 2.06.94-2.06 2.06-.94-2.06-.94-.94-2.06-.94 2.06-2.06.94z\"/><path d=\"M17.41 7.96l-1.37-1.37c-.4-.4-.92-.59-1.43-.59-.52 0-1.04.2-1.43.59L10.3 9.45l-7.72 7.72c-.78.78-.78 2.05 0 2.83L4 21.41c.39.39.9.59 1.41.59.51 0 1.02-.2 1.41-.59l7.78-7.78 2.81-2.81c.8-.78.8-2.07 0-2.86zM5.41 20L4 18.59l7.72-7.72 1.47 1.35L5.41 20z\"/>\n",
              "  </svg>\n",
              "      </button>\n",
              "      \n",
              "  <style>\n",
              "    .colab-df-container {\n",
              "      display:flex;\n",
              "      flex-wrap:wrap;\n",
              "      gap: 12px;\n",
              "    }\n",
              "\n",
              "    .colab-df-convert {\n",
              "      background-color: #E8F0FE;\n",
              "      border: none;\n",
              "      border-radius: 50%;\n",
              "      cursor: pointer;\n",
              "      display: none;\n",
              "      fill: #1967D2;\n",
              "      height: 32px;\n",
              "      padding: 0 0 0 0;\n",
              "      width: 32px;\n",
              "    }\n",
              "\n",
              "    .colab-df-convert:hover {\n",
              "      background-color: #E2EBFA;\n",
              "      box-shadow: 0px 1px 2px rgba(60, 64, 67, 0.3), 0px 1px 3px 1px rgba(60, 64, 67, 0.15);\n",
              "      fill: #174EA6;\n",
              "    }\n",
              "\n",
              "    [theme=dark] .colab-df-convert {\n",
              "      background-color: #3B4455;\n",
              "      fill: #D2E3FC;\n",
              "    }\n",
              "\n",
              "    [theme=dark] .colab-df-convert:hover {\n",
              "      background-color: #434B5C;\n",
              "      box-shadow: 0px 1px 3px 1px rgba(0, 0, 0, 0.15);\n",
              "      filter: drop-shadow(0px 1px 2px rgba(0, 0, 0, 0.3));\n",
              "      fill: #FFFFFF;\n",
              "    }\n",
              "  </style>\n",
              "\n",
              "      <script>\n",
              "        const buttonEl =\n",
              "          document.querySelector('#df-17bedbff-1fc1-4575-91f3-6309eed489c6 button.colab-df-convert');\n",
              "        buttonEl.style.display =\n",
              "          google.colab.kernel.accessAllowed ? 'block' : 'none';\n",
              "\n",
              "        async function convertToInteractive(key) {\n",
              "          const element = document.querySelector('#df-17bedbff-1fc1-4575-91f3-6309eed489c6');\n",
              "          const dataTable =\n",
              "            await google.colab.kernel.invokeFunction('convertToInteractive',\n",
              "                                                     [key], {});\n",
              "          if (!dataTable) return;\n",
              "\n",
              "          const docLinkHtml = 'Like what you see? Visit the ' +\n",
              "            '<a target=\"_blank\" href=https://colab.research.google.com/notebooks/data_table.ipynb>data table notebook</a>'\n",
              "            + ' to learn more about interactive tables.';\n",
              "          element.innerHTML = '';\n",
              "          dataTable['output_type'] = 'display_data';\n",
              "          await google.colab.output.renderOutput(dataTable, element);\n",
              "          const docLink = document.createElement('div');\n",
              "          docLink.innerHTML = docLinkHtml;\n",
              "          element.appendChild(docLink);\n",
              "        }\n",
              "      </script>\n",
              "    </div>\n",
              "  </div>\n",
              "  "
            ]
          },
          "metadata": {},
          "execution_count": 373
        }
      ],
      "source": [
        "df[df['area_sqft'] / df['bedrooms'] < 300]"
      ],
      "id": "833616e7"
    },
    {
      "cell_type": "markdown",
      "metadata": {
        "id": "36d56fdf"
      },
      "source": [
        "In the above cell we assume that on  minimum a bedroom must be more than 300 sq.ft so those that were not following that rule in our data we will be removing them as they will be considered as outliers..."
      ],
      "id": "36d56fdf"
    },
    {
      "cell_type": "code",
      "execution_count": null,
      "metadata": {
        "id": "f536e38f"
      },
      "outputs": [],
      "source": [
        "df.drop(df[df['area_sqft'] / df['bedrooms'] < 300].index, inplace = True)"
      ],
      "id": "f536e38f"
    },
    {
      "cell_type": "markdown",
      "metadata": {
        "id": "7qn6WQPHa6tz"
      },
      "source": [
        "###Data Understanding"
      ],
      "id": "7qn6WQPHa6tz"
    },
    {
      "cell_type": "code",
      "execution_count": null,
      "metadata": {
        "id": "514317db",
        "colab": {
          "base_uri": "https://localhost:8080/"
        },
        "outputId": "e33d71ad-c247-478c-df94-21025d280339"
      },
      "outputs": [
        {
          "output_type": "execute_result",
          "data": {
            "text/plain": [
              "count     41638.000000\n",
              "mean       5979.539002\n",
              "std        4391.015870\n",
              "min           0.000735\n",
              "25%          76.522570\n",
              "50%        6887.027045\n",
              "75%        8723.567590\n",
              "max      106519.742883\n",
              "Name: price_per_sqft, dtype: float64"
            ]
          },
          "metadata": {},
          "execution_count": 375
        }
      ],
      "source": [
        "df['price_per_sqft'].describe()"
      ],
      "id": "514317db"
    },
    {
      "cell_type": "markdown",
      "metadata": {
        "id": "66e440f4"
      },
      "source": [
        "Notice how much it is having standard deviation we will reduce it..."
      ],
      "id": "66e440f4"
    },
    {
      "cell_type": "markdown",
      "metadata": {
        "id": "Y4sCF0zabDTd"
      },
      "source": [
        "###Reducing Standard Deviation"
      ],
      "id": "Y4sCF0zabDTd"
    },
    {
      "cell_type": "code",
      "execution_count": null,
      "metadata": {
        "id": "675c90cb"
      },
      "outputs": [],
      "source": [
        "# removing price_per_sqft outliers \n",
        "def remove_pps_outliers(df):\n",
        "    df_out = pd.DataFrame()\n",
        "    for key,subdf in df.groupby('location'):\n",
        "        m = np.mean(subdf['price_per_sqft'])\n",
        "        std = np.std(subdf['price_per_sqft'])\n",
        "        reduced_df = subdf[(subdf['price_per_sqft'] > (m-std)) & (subdf['price_per_sqft'] <= (m+std))]\n",
        "        df_out = pd.concat([df_out,reduced_df], ignore_index=True)\n",
        "    return df_out"
      ],
      "id": "675c90cb"
    },
    {
      "cell_type": "code",
      "execution_count": null,
      "metadata": {
        "id": "7625dc39",
        "colab": {
          "base_uri": "https://localhost:8080/"
        },
        "outputId": "449d96db-d891-4d05-be93-cdced7b96a14"
      },
      "outputs": [
        {
          "output_type": "execute_result",
          "data": {
            "text/plain": [
              "(27770, 6)"
            ]
          },
          "metadata": {},
          "execution_count": 377
        }
      ],
      "source": [
        "df = remove_pps_outliers(df)\n",
        "df.shape"
      ],
      "id": "7625dc39"
    },
    {
      "cell_type": "markdown",
      "metadata": {
        "id": "-UAsxwmAbHvV"
      },
      "source": [
        "###Data Visualization"
      ],
      "id": "-UAsxwmAbHvV"
    },
    {
      "cell_type": "code",
      "execution_count": null,
      "metadata": {
        "id": "b5d06f52"
      },
      "outputs": [],
      "source": [
        "def plot_scatter_chart(df, location):\n",
        "    bedroom_2 = df[(df['location'] == location) & (df['bedrooms'] == 2)]\n",
        "    bedroom_3 = df[(df['location'] == location) & (df['bedrooms'] == 3)]\n",
        "    matplotlib.rcParams[\"figure.figsize\"] = (15,10)\n",
        "    plt.scatter(bedroom_2['area_sqft'], bedroom_2['price']/100000, color='blue', label=\"2 Bedroom\", s=50)\n",
        "    plt.scatter(bedroom_3['area_sqft'], bedroom_3['price']/100000, marker='+', color=\"green\", label=\"3 Bedroom\", s=50)\n",
        "    plt.xlabel(\"Total Square Feet Area\")\n",
        "    plt.ylabel(\"Price\")\n",
        "    plt.title(location)\n",
        "    plt.legend()"
      ],
      "id": "b5d06f52"
    },
    {
      "cell_type": "code",
      "execution_count": null,
      "metadata": {
        "id": "rzQ665vMpcx0",
        "colab": {
          "base_uri": "https://localhost:8080/",
          "height": 54
        },
        "outputId": "ebeab35b-1046-43d7-8aed-fb4f235d523a"
      },
      "outputs": [
        {
          "output_type": "display_data",
          "data": {
            "text/plain": [
              "<Figure size 1080x720 with 1 Axes>"
            ],
            "image/png": "[encoded data removed]"
          },
          "metadata": {
            "needs_background": "light"
          }
        }
      ],
      "source": [
        "plot_scatter_chart(df, \"DHA Defence\")"
      ],
      "id": "rzQ665vMpcx0"
    },
    {
      "cell_type": "code",
      "execution_count": null,
      "metadata": {
        "id": "9058503c",
        "colab": {
          "base_uri": "https://localhost:8080/",
          "height": 54
        },
        "outputId": "37f89d9d-d95e-453d-a0a4-930cde36137a"
      },
      "outputs": [
        {
          "output_type": "display_data",
          "data": {
            "text/plain": [
              "<Figure size 1080x720 with 1 Axes>"
            ],
            "image/png": "[encoded data removed]"
          },
          "metadata": {
            "needs_background": "light"
          }
        }
      ],
      "source": [
        "plot_scatter_chart(df, \"Allama Iqbal Town\")"
      ],
      "id": "9058503c"
    },
    {
      "cell_type": "markdown",
      "metadata": {
        "id": "4308571c"
      },
      "source": [
        "Notice in the above graph that there are some properties having 3 bedrooms still in less price than 2 bedrooms properties in a specfied location. Now they can also be considered as outliers and we should also remove them so that they cannot affect our model performance"
      ],
      "id": "4308571c"
    },
    {
      "cell_type": "markdown",
      "metadata": {
        "id": "ERl3EyQqb7Of"
      },
      "source": [
        "###Removing Outliers"
      ],
      "id": "ERl3EyQqb7Of"
    },
    {
      "cell_type": "code",
      "execution_count": null,
      "metadata": {
        "id": "fea66c42"
      },
      "outputs": [],
      "source": [
        "def remove_bhk_outliers(df):\n",
        "    exclude_indices = np.array([])\n",
        "    for location, location_df in df.groupby(\"location\"):\n",
        "        bhk_stats = {}\n",
        "        for bedroom, bedroom_df in location_df.groupby(\"bedrooms\"):\n",
        "            bhk_stats[bedroom] = {\n",
        "                'mean' : np.mean(bedroom_df[\"price_per_sqft\"]),\n",
        "                'std' : np.std(bedroom_df[\"price_per_sqft\"]),\n",
        "                'count': bedroom_df.shape[0]\n",
        "            }\n",
        "        for bedroom, bedroom_df in location_df.groupby(\"bedrooms\"):\n",
        "            stats = bhk_stats.get(bedroom - 1)\n",
        "            if stats and stats['count']>5:\n",
        "                exclude_indices = np.append(exclude_indices, bedroom_df[bedroom_df['price_per_sqft'] < (stats['mean'])].index.values)\n",
        "    return df.drop(exclude_indices, axis=\"index\") "
      ],
      "id": "fea66c42"
    },
    {
      "cell_type": "code",
      "execution_count": null,
      "metadata": {
        "id": "337df1ca",
        "colab": {
          "base_uri": "https://localhost:8080/"
        },
        "outputId": "849a1934-326c-4166-cd55-04c4d652cc47"
      },
      "outputs": [
        {
          "output_type": "execute_result",
          "data": {
            "text/plain": [
              "(17633, 6)"
            ]
          },
          "metadata": {},
          "execution_count": 382
        }
      ],
      "source": [
        "df = remove_bhk_outliers(df)\n",
        "df.shape"
      ],
      "id": "337df1ca"
    },
    {
      "cell_type": "markdown",
      "metadata": {
        "id": "KX5RMlb4cE_i"
      },
      "source": [
        "###Sorting locations"
      ],
      "id": "KX5RMlb4cE_i"
    },
    {
      "cell_type": "code",
      "execution_count": null,
      "metadata": {
        "id": "05f8796e",
        "colab": {
          "base_uri": "https://localhost:8080/"
        },
        "outputId": "0141e213-bc03-4182-ad61-d386a62f8184"
      },
      "outputs": [
        {
          "output_type": "execute_result",
          "data": {
            "text/plain": [
              "location\n",
              "Bahria Town                          2843\n",
              "DHA Defence                          2384\n",
              "Askari                                699\n",
              "Johar Town                            621\n",
              "Bahria Orchard                        480\n",
              "others                                435\n",
              "State Life Housing Society            430\n",
              "Paragon City                          406\n",
              "Allama Iqbal Town                     360\n",
              "Gulberg                               344\n",
              "DHA 11 Rahbar                         330\n",
              "Model Town                            311\n",
              "Park View Villas                      311\n",
              "Wapda Town                            295\n",
              "Cantt                                 286\n",
              "Al Rehman Garden                      259\n",
              "Eden                                  239\n",
              "Military Accounts Housing Society     227\n",
              "Pak Arab Housing Society              218\n",
              "Lake City                             185\n",
              "Valencia Housing Society              176\n",
              "Khayaban-e-Amin                       171\n",
              "EME Society                           144\n",
              "Lahore Medical Housing Society        130\n",
              "Tariq Gardens                         119\n",
              "Canal Garden                          118\n",
              "Labor Colony                          117\n",
              "Sabzazar Scheme                       116\n",
              "PIA Housing Scheme                    105\n",
              "Gulshan-e-Ravi                         97\n",
              "Township                               88\n",
              "Garden Town                            85\n",
              "Central Park Housing Scheme            85\n",
              "Defence Road                           85\n",
              "Faisal Town                            84\n",
              "Al-Kabir Town                          80\n",
              "College Road                           79\n",
              "Canal View                             75\n",
              "Harbanspura                            71\n",
              "Punjab Govt Employees Society          71\n",
              "Name: location, dtype: int64"
            ]
          },
          "metadata": {},
          "execution_count": 383
        }
      ],
      "source": [
        "df.groupby('location')['location'].agg('count').sort_values(ascending=False).head(40)"
      ],
      "id": "05f8796e"
    },
    {
      "cell_type": "markdown",
      "metadata": {
        "id": "5MskEZs0cKLN"
      },
      "source": [
        "###New Visualizations"
      ],
      "id": "5MskEZs0cKLN"
    },
    {
      "cell_type": "code",
      "execution_count": null,
      "metadata": {
        "id": "57291530",
        "colab": {
          "base_uri": "https://localhost:8080/",
          "height": 54
        },
        "outputId": "38d6e7fe-095a-4be8-fa89-be4b457321e4"
      },
      "outputs": [
        {
          "output_type": "display_data",
          "data": {
            "text/plain": [
              "<Figure size 1080x720 with 1 Axes>"
            ],
            "image/png": "[encoded data removed]"
          },
          "metadata": {
            "needs_background": "light"
          }
        }
      ],
      "source": [
        "plot_scatter_chart(df,\"Johar Town\")"
      ],
      "id": "57291530"
    },
    {
      "cell_type": "code",
      "execution_count": null,
      "metadata": {
        "id": "1c2e3325",
        "colab": {
          "base_uri": "https://localhost:8080/",
          "height": 54
        },
        "outputId": "68737a7e-016f-4ef7-d852-5b491831d7d7"
      },
      "outputs": [
        {
          "output_type": "display_data",
          "data": {
            "text/plain": [
              "<Figure size 1080x720 with 1 Axes>"
            ],
            "image/png": "[encoded data removed]"
          },
          "metadata": {
            "needs_background": "light"
          }
        }
      ],
      "source": [
        "fig, ax = plt.subplots(figsize=(15,10))\n",
        "plt.hist(df['price_per_sqft'], rwidth=0.8)\n",
        "plt.xlabel(\"Price Per Square Ft\")\n",
        "plt.ylabel(\"Count\")\n",
        "plt.show()"
      ],
      "id": "1c2e3325"
    },
    {
      "cell_type": "markdown",
      "metadata": {
        "id": "6c4f1a69"
      },
      "source": [
        "Then we plot the graph and 8000 price per square ft is the most common price "
      ],
      "id": "6c4f1a69"
    },
    {
      "cell_type": "markdown",
      "metadata": {
        "id": "aLONwaC8cPlt"
      },
      "source": [
        "###Bath greater than 2+ Bedrooms"
      ],
      "id": "aLONwaC8cPlt"
    },
    {
      "cell_type": "code",
      "execution_count": null,
      "metadata": {
        "id": "3dbaf1f0",
        "colab": {
          "base_uri": "https://localhost:8080/",
          "height": 713
        },
        "outputId": "41d07a49-cbbc-4cc7-e2ed-d86f87afab13"
      },
      "outputs": [
        {
          "output_type": "execute_result",
          "data": {
            "text/plain": [
              "          price                location  baths  area_sqft  bedrooms  \\\n",
              "1      19000000  AWT Army Welfare Trust      4    5445.02         3   \n",
              "3      21000000  AWT Army Welfare Trust      6    5445.02         5   \n",
              "6       5800000  AWT Army Welfare Trust      3    2722.51         2   \n",
              "8       9000000  AWT Army Welfare Trust      3    2722.51         2   \n",
              "14      2800000           Aashiana Road      2     544.50         1   \n",
              "...         ...                     ...    ...        ...       ...   \n",
              "27756  20000000                  others      7    2722.51         5   \n",
              "27761  18500000                  others      5    2722.51         4   \n",
              "27762  15000000                  others      4    1905.76         3   \n",
              "27763  40000000                  others      6    5445.02         5   \n",
              "27764  10500000                  others      5    1361.25         4   \n",
              "\n",
              "       price_per_sqft  \n",
              "1         3489.427036  \n",
              "3         3856.735145  \n",
              "6         2130.387033  \n",
              "8         3305.772982  \n",
              "14        5142.332415  \n",
              "...               ...  \n",
              "27756     7346.162181  \n",
              "27761     6795.200018  \n",
              "27762     7870.875661  \n",
              "27763     7346.162181  \n",
              "27764     7713.498623  \n",
              "\n",
              "[7849 rows x 6 columns]"
            ],
            "text/html": [
              "\n",
              "  <div id=\"df-90f2a401-eb29-46b0-aab9-a464713bc589\">\n",
              "    <div class=\"colab-df-container\">\n",
              "      <div>\n",
              "<style scoped>\n",
              "    .dataframe tbody tr th:only-of-type {\n",
              "        vertical-align: middle;\n",
              "    }\n",
              "\n",
              "    .dataframe tbody tr th {\n",
              "        vertical-align: top;\n",
              "    }\n",
              "\n",
              "    .dataframe thead th {\n",
              "        text-align: right;\n",
              "    }\n",
              "</style>\n",
              "<table border=\"1\" class=\"dataframe\">\n",
              "  <thead>\n",
              "    <tr style=\"text-align: right;\">\n",
              "      <th></th>\n",
              "      <th>price</th>\n",
              "      <th>location</th>\n",
              "      <th>baths</th>\n",
              "      <th>area_sqft</th>\n",
              "      <th>bedrooms</th>\n",
              "      <th>price_per_sqft</th>\n",
              "    </tr>\n",
              "  </thead>\n",
              "  <tbody>\n",
              "    <tr>\n",
              "      <th>1</th>\n",
              "      <td>19000000</td>\n",
              "      <td>AWT Army Welfare Trust</td>\n",
              "      <td>4</td>\n",
              "      <td>5445.02</td>\n",
              "      <td>3</td>\n",
              "      <td>3489.427036</td>\n",
              "    </tr>\n",
              "    <tr>\n",
              "      <th>3</th>\n",
              "      <td>21000000</td>\n",
              "      <td>AWT Army Welfare Trust</td>\n",
              "      <td>6</td>\n",
              "      <td>5445.02</td>\n",
              "      <td>5</td>\n",
              "      <td>3856.735145</td>\n",
              "    </tr>\n",
              "    <tr>\n",
              "      <th>6</th>\n",
              "      <td>5800000</td>\n",
              "      <td>AWT Army Welfare Trust</td>\n",
              "      <td>3</td>\n",
              "      <td>2722.51</td>\n",
              "      <td>2</td>\n",
              "      <td>2130.387033</td>\n",
              "    </tr>\n",
              "    <tr>\n",
              "      <th>8</th>\n",
              "      <td>9000000</td>\n",
              "      <td>AWT Army Welfare Trust</td>\n",
              "      <td>3</td>\n",
              "      <td>2722.51</td>\n",
              "      <td>2</td>\n",
              "      <td>3305.772982</td>\n",
              "    </tr>\n",
              "    <tr>\n",
              "      <th>14</th>\n",
              "      <td>2800000</td>\n",
              "      <td>Aashiana Road</td>\n",
              "      <td>2</td>\n",
              "      <td>544.50</td>\n",
              "      <td>1</td>\n",
              "      <td>5142.332415</td>\n",
              "    </tr>\n",
              "    <tr>\n",
              "      <th>...</th>\n",
              "      <td>...</td>\n",
              "      <td>...</td>\n",
              "      <td>...</td>\n",
              "      <td>...</td>\n",
              "      <td>...</td>\n",
              "      <td>...</td>\n",
              "    </tr>\n",
              "    <tr>\n",
              "      <th>27756</th>\n",
              "      <td>20000000</td>\n",
              "      <td>others</td>\n",
              "      <td>7</td>\n",
              "      <td>2722.51</td>\n",
              "      <td>5</td>\n",
              "      <td>7346.162181</td>\n",
              "    </tr>\n",
              "    <tr>\n",
              "      <th>27761</th>\n",
              "      <td>18500000</td>\n",
              "      <td>others</td>\n",
              "      <td>5</td>\n",
              "      <td>2722.51</td>\n",
              "      <td>4</td>\n",
              "      <td>6795.200018</td>\n",
              "    </tr>\n",
              "    <tr>\n",
              "      <th>27762</th>\n",
              "      <td>15000000</td>\n",
              "      <td>others</td>\n",
              "      <td>4</td>\n",
              "      <td>1905.76</td>\n",
              "      <td>3</td>\n",
              "      <td>7870.875661</td>\n",
              "    </tr>\n",
              "    <tr>\n",
              "      <th>27763</th>\n",
              "      <td>40000000</td>\n",
              "      <td>others</td>\n",
              "      <td>6</td>\n",
              "      <td>5445.02</td>\n",
              "      <td>5</td>\n",
              "      <td>7346.162181</td>\n",
              "    </tr>\n",
              "    <tr>\n",
              "      <th>27764</th>\n",
              "      <td>10500000</td>\n",
              "      <td>others</td>\n",
              "      <td>5</td>\n",
              "      <td>1361.25</td>\n",
              "      <td>4</td>\n",
              "      <td>7713.498623</td>\n",
              "    </tr>\n",
              "  </tbody>\n",
              "</table>\n",
              "<p>7849 rows × 6 columns</p>\n",
              "</div>\n",
              "      <button class=\"colab-df-convert\" onclick=\"convertToInteractive('df-90f2a401-eb29-46b0-aab9-a464713bc589')\"\n",
              "              title=\"Convert this dataframe to an interactive table.\"\n",
              "              style=\"display:none;\">\n",
              "        \n",
              "  <svg xmlns=\"http://www.w3.org/2000/svg\" height=\"24px\"viewBox=\"0 0 24 24\"\n",
              "       width=\"24px\">\n",
              "    <path d=\"M0 0h24v24H0V0z\" fill=\"none\"/>\n",
              "    <path d=\"M18.56 5.44l.94 2.06.94-2.06 2.06-.94-2.06-.94-.94-2.06-.94 2.06-2.06.94zm-11 1L8.5 8.5l.94-2.06 2.06-.94-2.06-.94L8.5 2.5l-.94 2.06-2.06.94zm10 10l.94 2.06.94-2.06 2.06-.94-2.06-.94-.94-2.06-.94 2.06-2.06.94z\"/><path d=\"M17.41 7.96l-1.37-1.37c-.4-.4-.92-.59-1.43-.59-.52 0-1.04.2-1.43.59L10.3 9.45l-7.72 7.72c-.78.78-.78 2.05 0 2.83L4 21.41c.39.39.9.59 1.41.59.51 0 1.02-.2 1.41-.59l7.78-7.78 2.81-2.81c.8-.78.8-2.07 0-2.86zM5.41 20L4 18.59l7.72-7.72 1.47 1.35L5.41 20z\"/>\n",
              "  </svg>\n",
              "      </button>\n",
              "      \n",
              "  <style>\n",
              "    .colab-df-container {\n",
              "      display:flex;\n",
              "      flex-wrap:wrap;\n",
              "      gap: 12px;\n",
              "    }\n",
              "\n",
              "    .colab-df-convert {\n",
              "      background-color: #E8F0FE;\n",
              "      border: none;\n",
              "      border-radius: 50%;\n",
              "      cursor: pointer;\n",
              "      display: none;\n",
              "      fill: #1967D2;\n",
              "      height: 32px;\n",
              "      padding: 0 0 0 0;\n",
              "      width: 32px;\n",
              "    }\n",
              "\n",
              "    .colab-df-convert:hover {\n",
              "      background-color: #E2EBFA;\n",
              "      box-shadow: 0px 1px 2px rgba(60, 64, 67, 0.3), 0px 1px 3px 1px rgba(60, 64, 67, 0.15);\n",
              "      fill: #174EA6;\n",
              "    }\n",
              "\n",
              "    [theme=dark] .colab-df-convert {\n",
              "      background-color: #3B4455;\n",
              "      fill: #D2E3FC;\n",
              "    }\n",
              "\n",
              "    [theme=dark] .colab-df-convert:hover {\n",
              "      background-color: #434B5C;\n",
              "      box-shadow: 0px 1px 3px 1px rgba(0, 0, 0, 0.15);\n",
              "      filter: drop-shadow(0px 1px 2px rgba(0, 0, 0, 0.3));\n",
              "      fill: #FFFFFF;\n",
              "    }\n",
              "  </style>\n",
              "\n",
              "      <script>\n",
              "        const buttonEl =\n",
              "          document.querySelector('#df-90f2a401-eb29-46b0-aab9-a464713bc589 button.colab-df-convert');\n",
              "        buttonEl.style.display =\n",
              "          google.colab.kernel.accessAllowed ? 'block' : 'none';\n",
              "\n",
              "        async function convertToInteractive(key) {\n",
              "          const element = document.querySelector('#df-90f2a401-eb29-46b0-aab9-a464713bc589');\n",
              "          const dataTable =\n",
              "            await google.colab.kernel.invokeFunction('convertToInteractive',\n",
              "                                                     [key], {});\n",
              "          if (!dataTable) return;\n",
              "\n",
              "          const docLinkHtml = 'Like what you see? Visit the ' +\n",
              "            '<a target=\"_blank\" href=https://colab.research.google.com/notebooks/data_table.ipynb>data table notebook</a>'\n",
              "            + ' to learn more about interactive tables.';\n",
              "          element.innerHTML = '';\n",
              "          dataTable['output_type'] = 'display_data';\n",
              "          await google.colab.output.renderOutput(dataTable, element);\n",
              "          const docLink = document.createElement('div');\n",
              "          docLink.innerHTML = docLinkHtml;\n",
              "          element.appendChild(docLink);\n",
              "        }\n",
              "      </script>\n",
              "    </div>\n",
              "  </div>\n",
              "  "
            ]
          },
          "metadata": {},
          "execution_count": 386
        }
      ],
      "source": [
        "df[df['baths'] > df['bedrooms']]"
      ],
      "id": "3dbaf1f0"
    },
    {
      "cell_type": "code",
      "execution_count": null,
      "metadata": {
        "id": "9ac6a61c",
        "colab": {
          "base_uri": "https://localhost:8080/",
          "height": 627
        },
        "outputId": "007db331-90bc-44bb-b315-ecb6629976e5"
      },
      "outputs": [
        {
          "output_type": "execute_result",
          "data": {
            "text/plain": [
              "          price                  location  baths  area_sqft  bedrooms  \\\n",
              "598       40000             Al-Kabir Town      8   43560.16         5   \n",
              "1972   14000000                    Askari      7    2722.51         3   \n",
              "3009   11800000               Bahria Town      6    1361.25         3   \n",
              "3323   11200000               Bahria Town      6    1361.25         3   \n",
              "3381   50000000               Bahria Town      9    5445.02         5   \n",
              "...         ...                       ...    ...        ...       ...   \n",
              "26217  65000000  Valencia Housing Society      8   10890.04         5   \n",
              "26250  75000000  Valencia Housing Society     10   10890.04         7   \n",
              "27165  19500000                    others      5    2722.51         2   \n",
              "27421  17500000                    others      8    2722.51         5   \n",
              "27429   8600000                    others      7    1361.25         4   \n",
              "\n",
              "       price_per_sqft  \n",
              "598          0.918270  \n",
              "1972      5142.313527  \n",
              "3009      8668.503214  \n",
              "3323      8227.731864  \n",
              "3381      9182.702727  \n",
              "...               ...  \n",
              "26217     5968.756772  \n",
              "26250     6887.027045  \n",
              "27165     7162.508127  \n",
              "27421     6427.891909  \n",
              "27429     6317.722681  \n",
              "\n",
              "[90 rows x 6 columns]"
            ],
            "text/html": [
              "\n",
              "  <div id=\"df-d198518b-098f-4604-8799-9be233aacf1b\">\n",
              "    <div class=\"colab-df-container\">\n",
              "      <div>\n",
              "<style scoped>\n",
              "    .dataframe tbody tr th:only-of-type {\n",
              "        vertical-align: middle;\n",
              "    }\n",
              "\n",
              "    .dataframe tbody tr th {\n",
              "        vertical-align: top;\n",
              "    }\n",
              "\n",
              "    .dataframe thead th {\n",
              "        text-align: right;\n",
              "    }\n",
              "</style>\n",
              "<table border=\"1\" class=\"dataframe\">\n",
              "  <thead>\n",
              "    <tr style=\"text-align: right;\">\n",
              "      <th></th>\n",
              "      <th>price</th>\n",
              "      <th>location</th>\n",
              "      <th>baths</th>\n",
              "      <th>area_sqft</th>\n",
              "      <th>bedrooms</th>\n",
              "      <th>price_per_sqft</th>\n",
              "    </tr>\n",
              "  </thead>\n",
              "  <tbody>\n",
              "    <tr>\n",
              "      <th>598</th>\n",
              "      <td>40000</td>\n",
              "      <td>Al-Kabir Town</td>\n",
              "      <td>8</td>\n",
              "      <td>43560.16</td>\n",
              "      <td>5</td>\n",
              "      <td>0.918270</td>\n",
              "    </tr>\n",
              "    <tr>\n",
              "      <th>1972</th>\n",
              "      <td>14000000</td>\n",
              "      <td>Askari</td>\n",
              "      <td>7</td>\n",
              "      <td>2722.51</td>\n",
              "      <td>3</td>\n",
              "      <td>5142.313527</td>\n",
              "    </tr>\n",
              "    <tr>\n",
              "      <th>3009</th>\n",
              "      <td>11800000</td>\n",
              "      <td>Bahria Town</td>\n",
              "      <td>6</td>\n",
              "      <td>1361.25</td>\n",
              "      <td>3</td>\n",
              "      <td>8668.503214</td>\n",
              "    </tr>\n",
              "    <tr>\n",
              "      <th>3323</th>\n",
              "      <td>11200000</td>\n",
              "      <td>Bahria Town</td>\n",
              "      <td>6</td>\n",
              "      <td>1361.25</td>\n",
              "      <td>3</td>\n",
              "      <td>8227.731864</td>\n",
              "    </tr>\n",
              "    <tr>\n",
              "      <th>3381</th>\n",
              "      <td>50000000</td>\n",
              "      <td>Bahria Town</td>\n",
              "      <td>9</td>\n",
              "      <td>5445.02</td>\n",
              "      <td>5</td>\n",
              "      <td>9182.702727</td>\n",
              "    </tr>\n",
              "    <tr>\n",
              "      <th>...</th>\n",
              "      <td>...</td>\n",
              "      <td>...</td>\n",
              "      <td>...</td>\n",
              "      <td>...</td>\n",
              "      <td>...</td>\n",
              "      <td>...</td>\n",
              "    </tr>\n",
              "    <tr>\n",
              "      <th>26217</th>\n",
              "      <td>65000000</td>\n",
              "      <td>Valencia Housing Society</td>\n",
              "      <td>8</td>\n",
              "      <td>10890.04</td>\n",
              "      <td>5</td>\n",
              "      <td>5968.756772</td>\n",
              "    </tr>\n",
              "    <tr>\n",
              "      <th>26250</th>\n",
              "      <td>75000000</td>\n",
              "      <td>Valencia Housing Society</td>\n",
              "      <td>10</td>\n",
              "      <td>10890.04</td>\n",
              "      <td>7</td>\n",
              "      <td>6887.027045</td>\n",
              "    </tr>\n",
              "    <tr>\n",
              "      <th>27165</th>\n",
              "      <td>19500000</td>\n",
              "      <td>others</td>\n",
              "      <td>5</td>\n",
              "      <td>2722.51</td>\n",
              "      <td>2</td>\n",
              "      <td>7162.508127</td>\n",
              "    </tr>\n",
              "    <tr>\n",
              "      <th>27421</th>\n",
              "      <td>17500000</td>\n",
              "      <td>others</td>\n",
              "      <td>8</td>\n",
              "      <td>2722.51</td>\n",
              "      <td>5</td>\n",
              "      <td>6427.891909</td>\n",
              "    </tr>\n",
              "    <tr>\n",
              "      <th>27429</th>\n",
              "      <td>8600000</td>\n",
              "      <td>others</td>\n",
              "      <td>7</td>\n",
              "      <td>1361.25</td>\n",
              "      <td>4</td>\n",
              "      <td>6317.722681</td>\n",
              "    </tr>\n",
              "  </tbody>\n",
              "</table>\n",
              "<p>90 rows × 6 columns</p>\n",
              "</div>\n",
              "      <button class=\"colab-df-convert\" onclick=\"convertToInteractive('df-d198518b-098f-4604-8799-9be233aacf1b')\"\n",
              "              title=\"Convert this dataframe to an interactive table.\"\n",
              "              style=\"display:none;\">\n",
              "        \n",
              "  <svg xmlns=\"http://www.w3.org/2000/svg\" height=\"24px\"viewBox=\"0 0 24 24\"\n",
              "       width=\"24px\">\n",
              "    <path d=\"M0 0h24v24H0V0z\" fill=\"none\"/>\n",
              "    <path d=\"M18.56 5.44l.94 2.06.94-2.06 2.06-.94-2.06-.94-.94-2.06-.94 2.06-2.06.94zm-11 1L8.5 8.5l.94-2.06 2.06-.94-2.06-.94L8.5 2.5l-.94 2.06-2.06.94zm10 10l.94 2.06.94-2.06 2.06-.94-2.06-.94-.94-2.06-.94 2.06-2.06.94z\"/><path d=\"M17.41 7.96l-1.37-1.37c-.4-.4-.92-.59-1.43-.59-.52 0-1.04.2-1.43.59L10.3 9.45l-7.72 7.72c-.78.78-.78 2.05 0 2.83L4 21.41c.39.39.9.59 1.41.59.51 0 1.02-.2 1.41-.59l7.78-7.78 2.81-2.81c.8-.78.8-2.07 0-2.86zM5.41 20L4 18.59l7.72-7.72 1.47 1.35L5.41 20z\"/>\n",
              "  </svg>\n",
              "      </button>\n",
              "      \n",
              "  <style>\n",
              "    .colab-df-container {\n",
              "      display:flex;\n",
              "      flex-wrap:wrap;\n",
              "      gap: 12px;\n",
              "    }\n",
              "\n",
              "    .colab-df-convert {\n",
              "      background-color: #E8F0FE;\n",
              "      border: none;\n",
              "      border-radius: 50%;\n",
              "      cursor: pointer;\n",
              "      display: none;\n",
              "      fill: #1967D2;\n",
              "      height: 32px;\n",
              "      padding: 0 0 0 0;\n",
              "      width: 32px;\n",
              "    }\n",
              "\n",
              "    .colab-df-convert:hover {\n",
              "      background-color: #E2EBFA;\n",
              "      box-shadow: 0px 1px 2px rgba(60, 64, 67, 0.3), 0px 1px 3px 1px rgba(60, 64, 67, 0.15);\n",
              "      fill: #174EA6;\n",
              "    }\n",
              "\n",
              "    [theme=dark] .colab-df-convert {\n",
              "      background-color: #3B4455;\n",
              "      fill: #D2E3FC;\n",
              "    }\n",
              "\n",
              "    [theme=dark] .colab-df-convert:hover {\n",
              "      background-color: #434B5C;\n",
              "      box-shadow: 0px 1px 3px 1px rgba(0, 0, 0, 0.15);\n",
              "      filter: drop-shadow(0px 1px 2px rgba(0, 0, 0, 0.3));\n",
              "      fill: #FFFFFF;\n",
              "    }\n",
              "  </style>\n",
              "\n",
              "      <script>\n",
              "        const buttonEl =\n",
              "          document.querySelector('#df-d198518b-098f-4604-8799-9be233aacf1b button.colab-df-convert');\n",
              "        buttonEl.style.display =\n",
              "          google.colab.kernel.accessAllowed ? 'block' : 'none';\n",
              "\n",
              "        async function convertToInteractive(key) {\n",
              "          const element = document.querySelector('#df-d198518b-098f-4604-8799-9be233aacf1b');\n",
              "          const dataTable =\n",
              "            await google.colab.kernel.invokeFunction('convertToInteractive',\n",
              "                                                     [key], {});\n",
              "          if (!dataTable) return;\n",
              "\n",
              "          const docLinkHtml = 'Like what you see? Visit the ' +\n",
              "            '<a target=\"_blank\" href=https://colab.research.google.com/notebooks/data_table.ipynb>data table notebook</a>'\n",
              "            + ' to learn more about interactive tables.';\n",
              "          element.innerHTML = '';\n",
              "          dataTable['output_type'] = 'display_data';\n",
              "          await google.colab.output.renderOutput(dataTable, element);\n",
              "          const docLink = document.createElement('div');\n",
              "          docLink.innerHTML = docLinkHtml;\n",
              "          element.appendChild(docLink);\n",
              "        }\n",
              "      </script>\n",
              "    </div>\n",
              "  </div>\n",
              "  "
            ]
          },
          "metadata": {},
          "execution_count": 387
        }
      ],
      "source": [
        "df[df['baths'] > (df['bedrooms'] + 2)]"
      ],
      "id": "9ac6a61c"
    },
    {
      "cell_type": "code",
      "execution_count": null,
      "metadata": {
        "id": "d731bf5b",
        "colab": {
          "base_uri": "https://localhost:8080/"
        },
        "outputId": "47abc373-ec8a-4e2a-fc8e-82d3e94130f8"
      },
      "outputs": [
        {
          "output_type": "execute_result",
          "data": {
            "text/plain": [
              "(17543, 6)"
            ]
          },
          "metadata": {},
          "execution_count": 388
        }
      ],
      "source": [
        "df = df.drop(df[df['baths'] > (df['bedrooms'] + 2)].index)\n",
        "df.shape"
      ],
      "id": "d731bf5b"
    },
    {
      "cell_type": "code",
      "execution_count": null,
      "metadata": {
        "id": "6ac14bd4"
      },
      "outputs": [],
      "source": [
        "df1 = df.drop(\"price_per_sqft\", axis=1)"
      ],
      "id": "6ac14bd4"
    },
    {
      "cell_type": "markdown",
      "metadata": {
        "id": "407d394e"
      },
      "source": [
        "As we add the column price_per_sqft for our dimensionality reduction we will now remove this column as this is not a feature for predicting property pricing..."
      ],
      "id": "407d394e"
    },
    {
      "cell_type": "markdown",
      "metadata": {
        "id": "AFKdKAa_cWOX"
      },
      "source": [
        "#DATA PRE-PROCESSING\n",
        "Here the Data is in Numeric form or in the true false form but we need data in binary form for modeling.So we created dummies with all the locations zero. If some house belongs to some location then its value will be 1 and all the values will be zero."
      ],
      "id": "AFKdKAa_cWOX"
    },
    {
      "cell_type": "markdown",
      "metadata": {
        "id": "ECxrXz6pchuT"
      },
      "source": [
        "##Dummy Data of Locations"
      ],
      "id": "ECxrXz6pchuT"
    },
    {
      "cell_type": "code",
      "execution_count": null,
      "metadata": {
        "id": "0eac0c04",
        "colab": {
          "base_uri": "https://localhost:8080/",
          "height": 289
        },
        "outputId": "b50c2291-1f37-4a76-988f-1226b2cc1746"
      },
      "outputs": [
        {
          "output_type": "execute_result",
          "data": {
            "text/plain": [
              "   AWT Army Welfare Trust  Aashiana Road  \\\n",
              "0                       1              0   \n",
              "1                       1              0   \n",
              "2                       1              0   \n",
              "\n",
              "   Abdalians Cooperative Housing Society  Airline Housing Society  \\\n",
              "0                                      0                        0   \n",
              "1                                      0                        0   \n",
              "2                                      0                        0   \n",
              "\n",
              "   Airport Road  Aitchison Society  Al Faisal Town  Al Hafeez Gardens  \\\n",
              "0             0                  0               0                  0   \n",
              "1             0                  0               0                  0   \n",
              "2             0                  0               0                  0   \n",
              "\n",
              "   Al Hamad Colony  Al Jalil Garden  ...  Wahdat Road  Walled City  \\\n",
              "0                0                0  ...            0            0   \n",
              "1                0                0  ...            0            0   \n",
              "2                0                0  ...            0            0   \n",
              "\n",
              "   Walton Road  Wapda Town  Wassanpura  West Wood Housing Society  \\\n",
              "0            0           0           0                          0   \n",
              "1            0           0           0                          0   \n",
              "2            0           0           0                          0   \n",
              "\n",
              "   Zaheer Villas  Zaitoon - New Lahore City  Zaman Colony  others  \n",
              "0              0                          0             0       0  \n",
              "1              0                          0             0       0  \n",
              "2              0                          0             0       0  \n",
              "\n",
              "[3 rows x 252 columns]"
            ],
            "text/html": [
              "\n",
              "  <div id=\"df-cb630ea3-64ff-4485-bdcb-856c9db53044\">\n",
              "    <div class=\"colab-df-container\">\n",
              "      <div>\n",
              "<style scoped>\n",
              "    .dataframe tbody tr th:only-of-type {\n",
              "        vertical-align: middle;\n",
              "    }\n",
              "\n",
              "    .dataframe tbody tr th {\n",
              "        vertical-align: top;\n",
              "    }\n",
              "\n",
              "    .dataframe thead th {\n",
              "        text-align: right;\n",
              "    }\n",
              "</style>\n",
              "<table border=\"1\" class=\"dataframe\">\n",
              "  <thead>\n",
              "    <tr style=\"text-align: right;\">\n",
              "      <th></th>\n",
              "      <th>AWT Army Welfare Trust</th>\n",
              "      <th>Aashiana Road</th>\n",
              "      <th>Abdalians Cooperative Housing Society</th>\n",
              "      <th>Airline Housing Society</th>\n",
              "      <th>Airport Road</th>\n",
              "      <th>Aitchison Society</th>\n",
              "      <th>Al Faisal Town</th>\n",
              "      <th>Al Hafeez Gardens</th>\n",
              "      <th>Al Hamad Colony</th>\n",
              "      <th>Al Jalil Garden</th>\n",
              "      <th>...</th>\n",
              "      <th>Wahdat Road</th>\n",
              "      <th>Walled City</th>\n",
              "      <th>Walton Road</th>\n",
              "      <th>Wapda Town</th>\n",
              "      <th>Wassanpura</th>\n",
              "      <th>West Wood Housing Society</th>\n",
              "      <th>Zaheer Villas</th>\n",
              "      <th>Zaitoon - New Lahore City</th>\n",
              "      <th>Zaman Colony</th>\n",
              "      <th>others</th>\n",
              "    </tr>\n",
              "  </thead>\n",
              "  <tbody>\n",
              "    <tr>\n",
              "      <th>0</th>\n",
              "      <td>1</td>\n",
              "      <td>0</td>\n",
              "      <td>0</td>\n",
              "      <td>0</td>\n",
              "      <td>0</td>\n",
              "      <td>0</td>\n",
              "      <td>0</td>\n",
              "      <td>0</td>\n",
              "      <td>0</td>\n",
              "      <td>0</td>\n",
              "      <td>...</td>\n",
              "      <td>0</td>\n",
              "      <td>0</td>\n",
              "      <td>0</td>\n",
              "      <td>0</td>\n",
              "      <td>0</td>\n",
              "      <td>0</td>\n",
              "      <td>0</td>\n",
              "      <td>0</td>\n",
              "      <td>0</td>\n",
              "      <td>0</td>\n",
              "    </tr>\n",
              "    <tr>\n",
              "      <th>1</th>\n",
              "      <td>1</td>\n",
              "      <td>0</td>\n",
              "      <td>0</td>\n",
              "      <td>0</td>\n",
              "      <td>0</td>\n",
              "      <td>0</td>\n",
              "      <td>0</td>\n",
              "      <td>0</td>\n",
              "      <td>0</td>\n",
              "      <td>0</td>\n",
              "      <td>...</td>\n",
              "      <td>0</td>\n",
              "      <td>0</td>\n",
              "      <td>0</td>\n",
              "      <td>0</td>\n",
              "      <td>0</td>\n",
              "      <td>0</td>\n",
              "      <td>0</td>\n",
              "      <td>0</td>\n",
              "      <td>0</td>\n",
              "      <td>0</td>\n",
              "    </tr>\n",
              "    <tr>\n",
              "      <th>2</th>\n",
              "      <td>1</td>\n",
              "      <td>0</td>\n",
              "      <td>0</td>\n",
              "      <td>0</td>\n",
              "      <td>0</td>\n",
              "      <td>0</td>\n",
              "      <td>0</td>\n",
              "      <td>0</td>\n",
              "      <td>0</td>\n",
              "      <td>0</td>\n",
              "      <td>...</td>\n",
              "      <td>0</td>\n",
              "      <td>0</td>\n",
              "      <td>0</td>\n",
              "      <td>0</td>\n",
              "      <td>0</td>\n",
              "      <td>0</td>\n",
              "      <td>0</td>\n",
              "      <td>0</td>\n",
              "      <td>0</td>\n",
              "      <td>0</td>\n",
              "    </tr>\n",
              "  </tbody>\n",
              "</table>\n",
              "<p>3 rows × 252 columns</p>\n",
              "</div>\n",
              "      <button class=\"colab-df-convert\" onclick=\"convertToInteractive('df-cb630ea3-64ff-4485-bdcb-856c9db53044')\"\n",
              "              title=\"Convert this dataframe to an interactive table.\"\n",
              "              style=\"display:none;\">\n",
              "        \n",
              "  <svg xmlns=\"http://www.w3.org/2000/svg\" height=\"24px\"viewBox=\"0 0 24 24\"\n",
              "       width=\"24px\">\n",
              "    <path d=\"M0 0h24v24H0V0z\" fill=\"none\"/>\n",
              "    <path d=\"M18.56 5.44l.94 2.06.94-2.06 2.06-.94-2.06-.94-.94-2.06-.94 2.06-2.06.94zm-11 1L8.5 8.5l.94-2.06 2.06-.94-2.06-.94L8.5 2.5l-.94 2.06-2.06.94zm10 10l.94 2.06.94-2.06 2.06-.94-2.06-.94-.94-2.06-.94 2.06-2.06.94z\"/><path d=\"M17.41 7.96l-1.37-1.37c-.4-.4-.92-.59-1.43-.59-.52 0-1.04.2-1.43.59L10.3 9.45l-7.72 7.72c-.78.78-.78 2.05 0 2.83L4 21.41c.39.39.9.59 1.41.59.51 0 1.02-.2 1.41-.59l7.78-7.78 2.81-2.81c.8-.78.8-2.07 0-2.86zM5.41 20L4 18.59l7.72-7.72 1.47 1.35L5.41 20z\"/>\n",
              "  </svg>\n",
              "      </button>\n",
              "      \n",
              "  <style>\n",
              "    .colab-df-container {\n",
              "      display:flex;\n",
              "      flex-wrap:wrap;\n",
              "      gap: 12px;\n",
              "    }\n",
              "\n",
              "    .colab-df-convert {\n",
              "      background-color: #E8F0FE;\n",
              "      border: none;\n",
              "      border-radius: 50%;\n",
              "      cursor: pointer;\n",
              "      display: none;\n",
              "      fill: #1967D2;\n",
              "      height: 32px;\n",
              "      padding: 0 0 0 0;\n",
              "      width: 32px;\n",
              "    }\n",
              "\n",
              "    .colab-df-convert:hover {\n",
              "      background-color: #E2EBFA;\n",
              "      box-shadow: 0px 1px 2px rgba(60, 64, 67, 0.3), 0px 1px 3px 1px rgba(60, 64, 67, 0.15);\n",
              "      fill: #174EA6;\n",
              "    }\n",
              "\n",
              "    [theme=dark] .colab-df-convert {\n",
              "      background-color: #3B4455;\n",
              "      fill: #D2E3FC;\n",
              "    }\n",
              "\n",
              "    [theme=dark] .colab-df-convert:hover {\n",
              "      background-color: #434B5C;\n",
              "      box-shadow: 0px 1px 3px 1px rgba(0, 0, 0, 0.15);\n",
              "      filter: drop-shadow(0px 1px 2px rgba(0, 0, 0, 0.3));\n",
              "      fill: #FFFFFF;\n",
              "    }\n",
              "  </style>\n",
              "\n",
              "      <script>\n",
              "        const buttonEl =\n",
              "          document.querySelector('#df-cb630ea3-64ff-4485-bdcb-856c9db53044 button.colab-df-convert');\n",
              "        buttonEl.style.display =\n",
              "          google.colab.kernel.accessAllowed ? 'block' : 'none';\n",
              "\n",
              "        async function convertToInteractive(key) {\n",
              "          const element = document.querySelector('#df-cb630ea3-64ff-4485-bdcb-856c9db53044');\n",
              "          const dataTable =\n",
              "            await google.colab.kernel.invokeFunction('convertToInteractive',\n",
              "                                                     [key], {});\n",
              "          if (!dataTable) return;\n",
              "\n",
              "          const docLinkHtml = 'Like what you see? Visit the ' +\n",
              "            '<a target=\"_blank\" href=https://colab.research.google.com/notebooks/data_table.ipynb>data table notebook</a>'\n",
              "            + ' to learn more about interactive tables.';\n",
              "          element.innerHTML = '';\n",
              "          dataTable['output_type'] = 'display_data';\n",
              "          await google.colab.output.renderOutput(dataTable, element);\n",
              "          const docLink = document.createElement('div');\n",
              "          docLink.innerHTML = docLinkHtml;\n",
              "          element.appendChild(docLink);\n",
              "        }\n",
              "      </script>\n",
              "    </div>\n",
              "  </div>\n",
              "  "
            ]
          },
          "metadata": {},
          "execution_count": 390
        }
      ],
      "source": [
        "dummies = pd.get_dummies(df1['location'])\n",
        "dummies.head(3)"
      ],
      "id": "0eac0c04"
    },
    {
      "cell_type": "markdown",
      "metadata": {
        "id": "26c2e0f7"
      },
      "source": [
        "First we make dummies of our locations"
      ],
      "id": "26c2e0f7"
    },
    {
      "cell_type": "markdown",
      "metadata": {
        "id": "mzHQ1k9dcsr6"
      },
      "source": [
        "##Filling Data in Dummies"
      ],
      "id": "mzHQ1k9dcsr6"
    },
    {
      "cell_type": "code",
      "execution_count": null,
      "metadata": {
        "id": "c92c0797",
        "colab": {
          "base_uri": "https://localhost:8080/"
        },
        "outputId": "b87128ce-675e-475b-b91e-22b4f9ac365e"
      },
      "outputs": [
        {
          "output_type": "execute_result",
          "data": {
            "text/plain": [
              "(17543, 255)"
            ]
          },
          "metadata": {},
          "execution_count": 391
        }
      ],
      "source": [
        "df1 = pd.concat([df1, dummies.drop('others', axis=1)], axis=\"columns\")\n",
        "df1 = df1.drop(\"location\", axis=1)\n",
        "df1.head()\n",
        "df1.shape"
      ],
      "id": "c92c0797"
    },
    {
      "cell_type": "markdown",
      "metadata": {
        "id": "ea6e8259"
      },
      "source": [
        "Then we concat them with our data..."
      ],
      "id": "ea6e8259"
    },
    {
      "cell_type": "markdown",
      "metadata": {
        "id": "90337152"
      },
      "source": [
        "#BUILDING MODEL"
      ],
      "id": "90337152"
    },
    {
      "cell_type": "markdown",
      "metadata": {
        "id": "Ip36bhZndhEq"
      },
      "source": [
        "##Attributes"
      ],
      "id": "Ip36bhZndhEq"
    },
    {
      "cell_type": "code",
      "execution_count": null,
      "metadata": {
        "id": "e4793434",
        "colab": {
          "base_uri": "https://localhost:8080/",
          "height": 352
        },
        "outputId": "3a49692b-d98d-469c-b0e7-d04408c89c64"
      },
      "outputs": [
        {
          "output_type": "execute_result",
          "data": {
            "text/plain": [
              "   baths  area_sqft  bedrooms  AWT Army Welfare Trust  Aashiana Road  \\\n",
              "0      4    2722.51         4                       1              0   \n",
              "1      4    5445.02         3                       1              0   \n",
              "2      2    1361.25         3                       1              0   \n",
              "3      6    5445.02         5                       1              0   \n",
              "4      2    2722.51         2                       1              0   \n",
              "\n",
              "   Abdalians Cooperative Housing Society  Airline Housing Society  \\\n",
              "0                                      0                        0   \n",
              "1                                      0                        0   \n",
              "2                                      0                        0   \n",
              "3                                      0                        0   \n",
              "4                                      0                        0   \n",
              "\n",
              "   Airport Road  Aitchison Society  Al Faisal Town  ...  Wahdat Colony  \\\n",
              "0             0                  0               0  ...              0   \n",
              "1             0                  0               0  ...              0   \n",
              "2             0                  0               0  ...              0   \n",
              "3             0                  0               0  ...              0   \n",
              "4             0                  0               0  ...              0   \n",
              "\n",
              "   Wahdat Road  Walled City  Walton Road  Wapda Town  Wassanpura  \\\n",
              "0            0            0            0           0           0   \n",
              "1            0            0            0           0           0   \n",
              "2            0            0            0           0           0   \n",
              "3            0            0            0           0           0   \n",
              "4            0            0            0           0           0   \n",
              "\n",
              "   West Wood Housing Society  Zaheer Villas  Zaitoon - New Lahore City  \\\n",
              "0                          0              0                          0   \n",
              "1                          0              0                          0   \n",
              "2                          0              0                          0   \n",
              "3                          0              0                          0   \n",
              "4                          0              0                          0   \n",
              "\n",
              "   Zaman Colony  \n",
              "0             0  \n",
              "1             0  \n",
              "2             0  \n",
              "3             0  \n",
              "4             0  \n",
              "\n",
              "[5 rows x 254 columns]"
            ],
            "text/html": [
              "\n",
              "  <div id=\"df-620a2307-f5d8-4ea9-b41c-50e19203820e\">\n",
              "    <div class=\"colab-df-container\">\n",
              "      <div>\n",
              "<style scoped>\n",
              "    .dataframe tbody tr th:only-of-type {\n",
              "        vertical-align: middle;\n",
              "    }\n",
              "\n",
              "    .dataframe tbody tr th {\n",
              "        vertical-align: top;\n",
              "    }\n",
              "\n",
              "    .dataframe thead th {\n",
              "        text-align: right;\n",
              "    }\n",
              "</style>\n",
              "<table border=\"1\" class=\"dataframe\">\n",
              "  <thead>\n",
              "    <tr style=\"text-align: right;\">\n",
              "      <th></th>\n",
              "      <th>baths</th>\n",
              "      <th>area_sqft</th>\n",
              "      <th>bedrooms</th>\n",
              "      <th>AWT Army Welfare Trust</th>\n",
              "      <th>Aashiana Road</th>\n",
              "      <th>Abdalians Cooperative Housing Society</th>\n",
              "      <th>Airline Housing Society</th>\n",
              "      <th>Airport Road</th>\n",
              "      <th>Aitchison Society</th>\n",
              "      <th>Al Faisal Town</th>\n",
              "      <th>...</th>\n",
              "      <th>Wahdat Colony</th>\n",
              "      <th>Wahdat Road</th>\n",
              "      <th>Walled City</th>\n",
              "      <th>Walton Road</th>\n",
              "      <th>Wapda Town</th>\n",
              "      <th>Wassanpura</th>\n",
              "      <th>West Wood Housing Society</th>\n",
              "      <th>Zaheer Villas</th>\n",
              "      <th>Zaitoon - New Lahore City</th>\n",
              "      <th>Zaman Colony</th>\n",
              "    </tr>\n",
              "  </thead>\n",
              "  <tbody>\n",
              "    <tr>\n",
              "      <th>0</th>\n",
              "      <td>4</td>\n",
              "      <td>2722.51</td>\n",
              "      <td>4</td>\n",
              "      <td>1</td>\n",
              "      <td>0</td>\n",
              "      <td>0</td>\n",
              "      <td>0</td>\n",
              "      <td>0</td>\n",
              "      <td>0</td>\n",
              "      <td>0</td>\n",
              "      <td>...</td>\n",
              "      <td>0</td>\n",
              "      <td>0</td>\n",
              "      <td>0</td>\n",
              "      <td>0</td>\n",
              "      <td>0</td>\n",
              "      <td>0</td>\n",
              "      <td>0</td>\n",
              "      <td>0</td>\n",
              "      <td>0</td>\n",
              "      <td>0</td>\n",
              "    </tr>\n",
              "    <tr>\n",
              "      <th>1</th>\n",
              "      <td>4</td>\n",
              "      <td>5445.02</td>\n",
              "      <td>3</td>\n",
              "      <td>1</td>\n",
              "      <td>0</td>\n",
              "      <td>0</td>\n",
              "      <td>0</td>\n",
              "      <td>0</td>\n",
              "      <td>0</td>\n",
              "      <td>0</td>\n",
              "      <td>...</td>\n",
              "      <td>0</td>\n",
              "      <td>0</td>\n",
              "      <td>0</td>\n",
              "      <td>0</td>\n",
              "      <td>0</td>\n",
              "      <td>0</td>\n",
              "      <td>0</td>\n",
              "      <td>0</td>\n",
              "      <td>0</td>\n",
              "      <td>0</td>\n",
              "    </tr>\n",
              "    <tr>\n",
              "      <th>2</th>\n",
              "      <td>2</td>\n",
              "      <td>1361.25</td>\n",
              "      <td>3</td>\n",
              "      <td>1</td>\n",
              "      <td>0</td>\n",
              "      <td>0</td>\n",
              "      <td>0</td>\n",
              "      <td>0</td>\n",
              "      <td>0</td>\n",
              "      <td>0</td>\n",
              "      <td>...</td>\n",
              "      <td>0</td>\n",
              "      <td>0</td>\n",
              "      <td>0</td>\n",
              "      <td>0</td>\n",
              "      <td>0</td>\n",
              "      <td>0</td>\n",
              "      <td>0</td>\n",
              "      <td>0</td>\n",
              "      <td>0</td>\n",
              "      <td>0</td>\n",
              "    </tr>\n",
              "    <tr>\n",
              "      <th>3</th>\n",
              "      <td>6</td>\n",
              "      <td>5445.02</td>\n",
              "      <td>5</td>\n",
              "      <td>1</td>\n",
              "      <td>0</td>\n",
              "      <td>0</td>\n",
              "      <td>0</td>\n",
              "      <td>0</td>\n",
              "      <td>0</td>\n",
              "      <td>0</td>\n",
              "      <td>...</td>\n",
              "      <td>0</td>\n",
              "      <td>0</td>\n",
              "      <td>0</td>\n",
              "      <td>0</td>\n",
              "      <td>0</td>\n",
              "      <td>0</td>\n",
              "      <td>0</td>\n",
              "      <td>0</td>\n",
              "      <td>0</td>\n",
              "      <td>0</td>\n",
              "    </tr>\n",
              "    <tr>\n",
              "      <th>4</th>\n",
              "      <td>2</td>\n",
              "      <td>2722.51</td>\n",
              "      <td>2</td>\n",
              "      <td>1</td>\n",
              "      <td>0</td>\n",
              "      <td>0</td>\n",
              "      <td>0</td>\n",
              "      <td>0</td>\n",
              "      <td>0</td>\n",
              "      <td>0</td>\n",
              "      <td>...</td>\n",
              "      <td>0</td>\n",
              "      <td>0</td>\n",
              "      <td>0</td>\n",
              "      <td>0</td>\n",
              "      <td>0</td>\n",
              "      <td>0</td>\n",
              "      <td>0</td>\n",
              "      <td>0</td>\n",
              "      <td>0</td>\n",
              "      <td>0</td>\n",
              "    </tr>\n",
              "  </tbody>\n",
              "</table>\n",
              "<p>5 rows × 254 columns</p>\n",
              "</div>\n",
              "      <button class=\"colab-df-convert\" onclick=\"convertToInteractive('df-620a2307-f5d8-4ea9-b41c-50e19203820e')\"\n",
              "              title=\"Convert this dataframe to an interactive table.\"\n",
              "              style=\"display:none;\">\n",
              "        \n",
              "  <svg xmlns=\"http://www.w3.org/2000/svg\" height=\"24px\"viewBox=\"0 0 24 24\"\n",
              "       width=\"24px\">\n",
              "    <path d=\"M0 0h24v24H0V0z\" fill=\"none\"/>\n",
              "    <path d=\"M18.56 5.44l.94 2.06.94-2.06 2.06-.94-2.06-.94-.94-2.06-.94 2.06-2.06.94zm-11 1L8.5 8.5l.94-2.06 2.06-.94-2.06-.94L8.5 2.5l-.94 2.06-2.06.94zm10 10l.94 2.06.94-2.06 2.06-.94-2.06-.94-.94-2.06-.94 2.06-2.06.94z\"/><path d=\"M17.41 7.96l-1.37-1.37c-.4-.4-.92-.59-1.43-.59-.52 0-1.04.2-1.43.59L10.3 9.45l-7.72 7.72c-.78.78-.78 2.05 0 2.83L4 21.41c.39.39.9.59 1.41.59.51 0 1.02-.2 1.41-.59l7.78-7.78 2.81-2.81c.8-.78.8-2.07 0-2.86zM5.41 20L4 18.59l7.72-7.72 1.47 1.35L5.41 20z\"/>\n",
              "  </svg>\n",
              "      </button>\n",
              "      \n",
              "  <style>\n",
              "    .colab-df-container {\n",
              "      display:flex;\n",
              "      flex-wrap:wrap;\n",
              "      gap: 12px;\n",
              "    }\n",
              "\n",
              "    .colab-df-convert {\n",
              "      background-color: #E8F0FE;\n",
              "      border: none;\n",
              "      border-radius: 50%;\n",
              "      cursor: pointer;\n",
              "      display: none;\n",
              "      fill: #1967D2;\n",
              "      height: 32px;\n",
              "      padding: 0 0 0 0;\n",
              "      width: 32px;\n",
              "    }\n",
              "\n",
              "    .colab-df-convert:hover {\n",
              "      background-color: #E2EBFA;\n",
              "      box-shadow: 0px 1px 2px rgba(60, 64, 67, 0.3), 0px 1px 3px 1px rgba(60, 64, 67, 0.15);\n",
              "      fill: #174EA6;\n",
              "    }\n",
              "\n",
              "    [theme=dark] .colab-df-convert {\n",
              "      background-color: #3B4455;\n",
              "      fill: #D2E3FC;\n",
              "    }\n",
              "\n",
              "    [theme=dark] .colab-df-convert:hover {\n",
              "      background-color: #434B5C;\n",
              "      box-shadow: 0px 1px 3px 1px rgba(0, 0, 0, 0.15);\n",
              "      filter: drop-shadow(0px 1px 2px rgba(0, 0, 0, 0.3));\n",
              "      fill: #FFFFFF;\n",
              "    }\n",
              "  </style>\n",
              "\n",
              "      <script>\n",
              "        const buttonEl =\n",
              "          document.querySelector('#df-620a2307-f5d8-4ea9-b41c-50e19203820e button.colab-df-convert');\n",
              "        buttonEl.style.display =\n",
              "          google.colab.kernel.accessAllowed ? 'block' : 'none';\n",
              "\n",
              "        async function convertToInteractive(key) {\n",
              "          const element = document.querySelector('#df-620a2307-f5d8-4ea9-b41c-50e19203820e');\n",
              "          const dataTable =\n",
              "            await google.colab.kernel.invokeFunction('convertToInteractive',\n",
              "                                                     [key], {});\n",
              "          if (!dataTable) return;\n",
              "\n",
              "          const docLinkHtml = 'Like what you see? Visit the ' +\n",
              "            '<a target=\"_blank\" href=https://colab.research.google.com/notebooks/data_table.ipynb>data table notebook</a>'\n",
              "            + ' to learn more about interactive tables.';\n",
              "          element.innerHTML = '';\n",
              "          dataTable['output_type'] = 'display_data';\n",
              "          await google.colab.output.renderOutput(dataTable, element);\n",
              "          const docLink = document.createElement('div');\n",
              "          docLink.innerHTML = docLinkHtml;\n",
              "          element.appendChild(docLink);\n",
              "        }\n",
              "      </script>\n",
              "    </div>\n",
              "  </div>\n",
              "  "
            ]
          },
          "metadata": {},
          "execution_count": 392
        }
      ],
      "source": [
        "X = df1.drop('price', axis=1) # Features\n",
        "X.head()"
      ],
      "id": "e4793434"
    },
    {
      "cell_type": "code",
      "execution_count": null,
      "metadata": {
        "id": "0ZPxRduyU-vX"
      },
      "outputs": [],
      "source": [
        "X.to_csv('./X.csv', sep = ',', index = False)"
      ],
      "id": "0ZPxRduyU-vX"
    },
    {
      "cell_type": "code",
      "execution_count": null,
      "metadata": {
        "id": "htTm0zJBruQX",
        "colab": {
          "base_uri": "https://localhost:8080/"
        },
        "outputId": "67784de2-c28c-4231-9f16-5a8d4133c7ae"
      },
      "outputs": [
        {
          "output_type": "execute_result",
          "data": {
            "text/plain": [
              "Index(['baths', 'area_sqft', 'bedrooms', 'AWT Army Welfare Trust',\n",
              "       'Aashiana Road', 'Abdalians Cooperative Housing Society',\n",
              "       'Airline Housing Society', 'Airport Road', 'Aitchison Society',\n",
              "       'Al Faisal Town',\n",
              "       ...\n",
              "       'Wahdat Colony', 'Wahdat Road', 'Walled City', 'Walton Road',\n",
              "       'Wapda Town', 'Wassanpura', 'West Wood Housing Society',\n",
              "       'Zaheer Villas', 'Zaitoon - New Lahore City', 'Zaman Colony'],\n",
              "      dtype='object', length=254)"
            ]
          },
          "metadata": {},
          "execution_count": 394
        }
      ],
      "source": [
        "X.columns"
      ],
      "id": "htTm0zJBruQX"
    },
    {
      "cell_type": "markdown",
      "metadata": {
        "id": "q9PwfCpldvuR"
      },
      "source": [
        "##Outcome"
      ],
      "id": "q9PwfCpldvuR"
    },
    {
      "cell_type": "code",
      "execution_count": null,
      "metadata": {
        "id": "bdb4542b",
        "colab": {
          "base_uri": "https://localhost:8080/"
        },
        "outputId": "e2489960-e8b3-4dd1-e49f-fbcd1e3aa07b"
      },
      "outputs": [
        {
          "output_type": "execute_result",
          "data": {
            "text/plain": [
              "0    11000000\n",
              "1    19000000\n",
              "2     5000000\n",
              "3    21000000\n",
              "4     5600000\n",
              "Name: price, dtype: int64"
            ]
          },
          "metadata": {},
          "execution_count": 395
        }
      ],
      "source": [
        "y = df1['price'] # Predictor or predicted_variable\n",
        "y.head()"
      ],
      "id": "bdb4542b"
    },
    {
      "cell_type": "markdown",
      "metadata": {
        "id": "9c92ed2f"
      },
      "source": [
        "As the price of property is continuous so we will be using regression models "
      ],
      "id": "9c92ed2f"
    },
    {
      "cell_type": "markdown",
      "metadata": {
        "id": "ITnA4Lm9d3H5"
      },
      "source": [
        "##Linear Regression Model"
      ],
      "id": "ITnA4Lm9d3H5"
    },
    {
      "cell_type": "code",
      "execution_count": null,
      "metadata": {
        "colab": {
          "base_uri": "https://localhost:8080/"
        },
        "id": "a47c684b",
        "outputId": "7c2a7296-a9b3-4a1f-ee08-cf7c862812b6"
      },
      "outputs": [
        {
          "output_type": "execute_result",
          "data": {
            "text/plain": [
              "0.6935115506439525"
            ]
          },
          "metadata": {},
          "execution_count": 396
        }
      ],
      "source": [
        "from sklearn.model_selection import train_test_split # for dividing data into training and test sets\n",
        "from sklearn.linear_model import LinearRegression # for predicting price\n",
        "\n",
        "X_train, X_test, y_train, y_test = train_test_split(X, y, test_size=0.3, random_state=46)\n",
        "lr = LinearRegression()\n",
        "lr.fit(X_train, y_train)\n",
        "lr.score(X_test, y_test)"
      ],
      "id": "a47c684b"
    },
    {
      "cell_type": "markdown",
      "metadata": {
        "id": "692f6c4d"
      },
      "source": [
        "Note that our linear regression model performs with 69% accuracy which is quite good..."
      ],
      "id": "692f6c4d"
    },
    {
      "cell_type": "markdown",
      "metadata": {
        "id": "25XjeY14eBAc"
      },
      "source": [
        "##Improving Accuracy"
      ],
      "id": "25XjeY14eBAc"
    },
    {
      "cell_type": "code",
      "execution_count": null,
      "metadata": {
        "colab": {
          "base_uri": "https://localhost:8080/"
        },
        "id": "78083ba6",
        "outputId": "fb058843-1213-4825-fda3-664619367a25"
      },
      "outputs": [
        {
          "output_type": "execute_result",
          "data": {
            "text/plain": [
              "array([0.69351155, 0.68687481, 0.72271741, 0.44230526, 0.54384357])"
            ]
          },
          "metadata": {},
          "execution_count": 397
        }
      ],
      "source": [
        "from sklearn.model_selection import ShuffleSplit\n",
        "from sklearn.model_selection import cross_val_score\n",
        "\n",
        "cv = ShuffleSplit(n_splits=5, test_size=0.3, random_state=46)\n",
        "cross_val_score(LinearRegression(), X, y, cv=cv)"
      ],
      "id": "78083ba6"
    },
    {
      "cell_type": "markdown",
      "metadata": {
        "id": "f1573006"
      },
      "source": [
        "Then use shuffle split for our cross validation and it gives the maximum accuracy of 72%..."
      ],
      "id": "f1573006"
    },
    {
      "cell_type": "markdown",
      "metadata": {
        "id": "q8HyS7j7eHpm"
      },
      "source": [
        "##All Possible Models"
      ],
      "id": "q8HyS7j7eHpm"
    },
    {
      "cell_type": "code",
      "execution_count": null,
      "metadata": {
        "id": "4c455700"
      },
      "outputs": [],
      "source": [
        "# importing other regression models to find the best performing model using GridSearchCV\n",
        "from sklearn.ensemble import RandomForestRegressor\n",
        "from sklearn.tree import DecisionTreeRegressor\n",
        "from sklearn.linear_model import Lasso\n",
        "from sklearn.model_selection import GridSearchCV"
      ],
      "id": "4c455700"
    },
    {
      "cell_type": "markdown",
      "metadata": {
        "id": "n1sD9qxHeLRW"
      },
      "source": [
        "##Finding Best Suitable Model"
      ],
      "id": "n1sD9qxHeLRW"
    },
    {
      "cell_type": "code",
      "execution_count": null,
      "metadata": {
        "id": "e2b215e1"
      },
      "outputs": [],
      "source": [
        "def find_best_model_using_gridsearchcv(X, y):\n",
        "    algos = {\n",
        "        'linear_regression': {\n",
        "            'model':LinearRegression(),\n",
        "            'params': {'normalize':[True,False]}\n",
        "    \n",
        "        },'decision_tree_regressor':{\n",
        "            'model': DecisionTreeRegressor(),\n",
        "            'params': {'criterion': ['mse','friedman_mse'], 'splitter':['best','random']}\n",
        "        },'lasso': {\n",
        "            'model':Lasso(),\n",
        "            'params': {'alpha':[1,2], 'selection':['random','cyclic']}\n",
        "        }\n",
        "    }\n",
        "    \n",
        "    \n",
        "    cv = ShuffleSplit(n_splits=5, test_size=0.2, random_state=0)\n",
        "    scores = []\n",
        "    for algo_name, config in algos.items():\n",
        "        gs = GridSearchCV(config['model'], config['params'], return_train_score=False, n_jobs=-1, cv=cv)\n",
        "        gs.fit(X, y)\n",
        "        scores.append({\n",
        "            'model': algo_name,\n",
        "            'best_score': gs.best_score_ ,\n",
        "            'best_params': gs.best_params_\n",
        "        })\n",
        "        \n",
        "    return pd.DataFrame(scores, columns=['model','best_score','best_params'])"
      ],
      "id": "e2b215e1"
    },
    {
      "cell_type": "code",
      "execution_count": null,
      "metadata": {
        "id": "df605268",
        "colab": {
          "base_uri": "https://localhost:8080/",
          "height": 330
        },
        "outputId": "0b5b27b4-9bf0-428f-c8f7-7fc738d2de9a"
      },
      "outputs": [
        {
          "output_type": "stream",
          "name": "stderr",
          "text": [
            "/usr/local/lib/python3.8/dist-packages/sklearn/linear_model/_base.py:148: FutureWarning: 'normalize' was deprecated in version 1.0 and will be removed in 1.2. Please leave the normalize parameter to its default value to silence this warning. The default behavior of this estimator is to not do any normalization. If normalization is needed please use sklearn.preprocessing.StandardScaler instead.\n",
            "  warnings.warn(\n"
          ]
        },
        {
          "output_type": "execute_result",
          "data": {
            "text/plain": [
              "                     model  best_score  \\\n",
              "0        linear_regression    0.545587   \n",
              "1  decision_tree_regressor    0.853962   \n",
              "2                    lasso    0.545589   \n",
              "\n",
              "                                         best_params  \n",
              "0                               {'normalize': False}  \n",
              "1  {'criterion': 'friedman_mse', 'splitter': 'ran...  \n",
              "2                {'alpha': 2, 'selection': 'random'}  "
            ],
            "text/html": [
              "\n",
              "  <div id=\"df-f01b65ce-1c3a-410c-8bd7-f3a4e0fb1e79\">\n",
              "    <div class=\"colab-df-container\">\n",
              "      <div>\n",
              "<style scoped>\n",
              "    .dataframe tbody tr th:only-of-type {\n",
              "        vertical-align: middle;\n",
              "    }\n",
              "\n",
              "    .dataframe tbody tr th {\n",
              "        vertical-align: top;\n",
              "    }\n",
              "\n",
              "    .dataframe thead th {\n",
              "        text-align: right;\n",
              "    }\n",
              "</style>\n",
              "<table border=\"1\" class=\"dataframe\">\n",
              "  <thead>\n",
              "    <tr style=\"text-align: right;\">\n",
              "      <th></th>\n",
              "      <th>model</th>\n",
              "      <th>best_score</th>\n",
              "      <th>best_params</th>\n",
              "    </tr>\n",
              "  </thead>\n",
              "  <tbody>\n",
              "    <tr>\n",
              "      <th>0</th>\n",
              "      <td>linear_regression</td>\n",
              "      <td>0.545587</td>\n",
              "      <td>{'normalize': False}</td>\n",
              "    </tr>\n",
              "    <tr>\n",
              "      <th>1</th>\n",
              "      <td>decision_tree_regressor</td>\n",
              "      <td>0.853962</td>\n",
              "      <td>{'criterion': 'friedman_mse', 'splitter': 'ran...</td>\n",
              "    </tr>\n",
              "    <tr>\n",
              "      <th>2</th>\n",
              "      <td>lasso</td>\n",
              "      <td>0.545589</td>\n",
              "      <td>{'alpha': 2, 'selection': 'random'}</td>\n",
              "    </tr>\n",
              "  </tbody>\n",
              "</table>\n",
              "</div>\n",
              "      <button class=\"colab-df-convert\" onclick=\"convertToInteractive('df-f01b65ce-1c3a-410c-8bd7-f3a4e0fb1e79')\"\n",
              "              title=\"Convert this dataframe to an interactive table.\"\n",
              "              style=\"display:none;\">\n",
              "        \n",
              "  <svg xmlns=\"http://www.w3.org/2000/svg\" height=\"24px\"viewBox=\"0 0 24 24\"\n",
              "       width=\"24px\">\n",
              "    <path d=\"M0 0h24v24H0V0z\" fill=\"none\"/>\n",
              "    <path d=\"M18.56 5.44l.94 2.06.94-2.06 2.06-.94-2.06-.94-.94-2.06-.94 2.06-2.06.94zm-11 1L8.5 8.5l.94-2.06 2.06-.94-2.06-.94L8.5 2.5l-.94 2.06-2.06.94zm10 10l.94 2.06.94-2.06 2.06-.94-2.06-.94-.94-2.06-.94 2.06-2.06.94z\"/><path d=\"M17.41 7.96l-1.37-1.37c-.4-.4-.92-.59-1.43-.59-.52 0-1.04.2-1.43.59L10.3 9.45l-7.72 7.72c-.78.78-.78 2.05 0 2.83L4 21.41c.39.39.9.59 1.41.59.51 0 1.02-.2 1.41-.59l7.78-7.78 2.81-2.81c.8-.78.8-2.07 0-2.86zM5.41 20L4 18.59l7.72-7.72 1.47 1.35L5.41 20z\"/>\n",
              "  </svg>\n",
              "      </button>\n",
              "      \n",
              "  <style>\n",
              "    .colab-df-container {\n",
              "      display:flex;\n",
              "      flex-wrap:wrap;\n",
              "      gap: 12px;\n",
              "    }\n",
              "\n",
              "    .colab-df-convert {\n",
              "      background-color: #E8F0FE;\n",
              "      border: none;\n",
              "      border-radius: 50%;\n",
              "      cursor: pointer;\n",
              "      display: none;\n",
              "      fill: #1967D2;\n",
              "      height: 32px;\n",
              "      padding: 0 0 0 0;\n",
              "      width: 32px;\n",
              "    }\n",
              "\n",
              "    .colab-df-convert:hover {\n",
              "      background-color: #E2EBFA;\n",
              "      box-shadow: 0px 1px 2px rgba(60, 64, 67, 0.3), 0px 1px 3px 1px rgba(60, 64, 67, 0.15);\n",
              "      fill: #174EA6;\n",
              "    }\n",
              "\n",
              "    [theme=dark] .colab-df-convert {\n",
              "      background-color: #3B4455;\n",
              "      fill: #D2E3FC;\n",
              "    }\n",
              "\n",
              "    [theme=dark] .colab-df-convert:hover {\n",
              "      background-color: #434B5C;\n",
              "      box-shadow: 0px 1px 3px 1px rgba(0, 0, 0, 0.15);\n",
              "      filter: drop-shadow(0px 1px 2px rgba(0, 0, 0, 0.3));\n",
              "      fill: #FFFFFF;\n",
              "    }\n",
              "  </style>\n",
              "\n",
              "      <script>\n",
              "        const buttonEl =\n",
              "          document.querySelector('#df-f01b65ce-1c3a-410c-8bd7-f3a4e0fb1e79 button.colab-df-convert');\n",
              "        buttonEl.style.display =\n",
              "          google.colab.kernel.accessAllowed ? 'block' : 'none';\n",
              "\n",
              "        async function convertToInteractive(key) {\n",
              "          const element = document.querySelector('#df-f01b65ce-1c3a-410c-8bd7-f3a4e0fb1e79');\n",
              "          const dataTable =\n",
              "            await google.colab.kernel.invokeFunction('convertToInteractive',\n",
              "                                                     [key], {});\n",
              "          if (!dataTable) return;\n",
              "\n",
              "          const docLinkHtml = 'Like what you see? Visit the ' +\n",
              "            '<a target=\"_blank\" href=https://colab.research.google.com/notebooks/data_table.ipynb>data table notebook</a>'\n",
              "            + ' to learn more about interactive tables.';\n",
              "          element.innerHTML = '';\n",
              "          dataTable['output_type'] = 'display_data';\n",
              "          await google.colab.output.renderOutput(dataTable, element);\n",
              "          const docLink = document.createElement('div');\n",
              "          docLink.innerHTML = docLinkHtml;\n",
              "          element.appendChild(docLink);\n",
              "        }\n",
              "      </script>\n",
              "    </div>\n",
              "  </div>\n",
              "  "
            ]
          },
          "metadata": {},
          "execution_count": 400
        }
      ],
      "source": [
        "find_best_model_using_gridsearchcv(X, y)"
      ],
      "id": "df605268"
    },
    {
      "cell_type": "markdown",
      "metadata": {
        "id": "337b128f"
      },
      "source": [
        "As decision_tree_regressor performs the best with 86% accuracy we will be using its best params and bulding our model..."
      ],
      "id": "337b128f"
    },
    {
      "cell_type": "markdown",
      "metadata": {
        "id": "hWCjH3tZeTE8"
      },
      "source": [
        "##Decision Tress Regression"
      ],
      "id": "hWCjH3tZeTE8"
    },
    {
      "cell_type": "code",
      "execution_count": null,
      "metadata": {
        "colab": {
          "base_uri": "https://localhost:8080/"
        },
        "id": "8781b6ea",
        "outputId": "b3fba31e-0da0-4cf6-a254-6a60f33302f9"
      },
      "outputs": [
        {
          "output_type": "execute_result",
          "data": {
            "text/plain": [
              "DecisionTreeRegressor(criterion='friedman_mse', random_state=0,\n",
              "                      splitter='random')"
            ]
          },
          "metadata": {},
          "execution_count": 401
        }
      ],
      "source": [
        "dtr = DecisionTreeRegressor(criterion='friedman_mse', splitter='random', random_state=0)\n",
        "dtr.fit(X, y)"
      ],
      "id": "8781b6ea"
    },
    {
      "cell_type": "markdown",
      "metadata": {
        "id": "TYbh6syi2B90"
      },
      "source": [
        "##Saving Model"
      ],
      "id": "TYbh6syi2B90"
    },
    {
      "cell_type": "code",
      "execution_count": null,
      "metadata": {
        "id": "tzUJtLnt2GIO"
      },
      "outputs": [],
      "source": [
        "import pickle"
      ],
      "id": "tzUJtLnt2GIO"
    },
    {
      "cell_type": "code",
      "execution_count": null,
      "metadata": {
        "id": "X92wXk8A2sV0"
      },
      "outputs": [],
      "source": [
        "pickle.dump(dtr, open('/content/model_saved.pkl', 'wb'))"
      ],
      "id": "X92wXk8A2sV0"
    },
    {
      "cell_type": "code",
      "execution_count": null,
      "metadata": {
        "id": "Iql-3cfl2sN4"
      },
      "outputs": [],
      "source": [
        "loaded_model = pickle.load(open('/content/model_saved.pkl', 'rb'))"
      ],
      "id": "Iql-3cfl2sN4"
    },
    {
      "cell_type": "code",
      "execution_count": null,
      "metadata": {
        "id": "mvwKIzKq2sAr"
      },
      "outputs": [],
      "source": [
        "# loaded_model.predict()"
      ],
      "id": "mvwKIzKq2sAr"
    },
    {
      "cell_type": "code",
      "execution_count": null,
      "metadata": {
        "id": "5ca0b0df",
        "colab": {
          "base_uri": "https://localhost:8080/"
        },
        "outputId": "74b1048c-14f5-4e3c-a71a-74ce4b6559d8"
      },
      "outputs": [
        {
          "output_type": "execute_result",
          "data": {
            "text/plain": [
              "Index(['baths', 'area_sqft', 'bedrooms', 'AWT Army Welfare Trust',\n",
              "       'Aashiana Road', 'Abdalians Cooperative Housing Society',\n",
              "       'Airline Housing Society', 'Airport Road', 'Aitchison Society',\n",
              "       'Al Faisal Town',\n",
              "       ...\n",
              "       'Wahdat Colony', 'Wahdat Road', 'Walled City', 'Walton Road',\n",
              "       'Wapda Town', 'Wassanpura', 'West Wood Housing Society',\n",
              "       'Zaheer Villas', 'Zaitoon - New Lahore City', 'Zaman Colony'],\n",
              "      dtype='object', length=254)"
            ]
          },
          "metadata": {},
          "execution_count": 406
        }
      ],
      "source": [
        "X.columns"
      ],
      "id": "5ca0b0df"
    },
    {
      "cell_type": "markdown",
      "metadata": {
        "id": "Wq7UUId4ejeU"
      },
      "source": [
        "#TESTING "
      ],
      "id": "Wq7UUId4ejeU"
    },
    {
      "cell_type": "markdown",
      "metadata": {
        "id": "V3stX19YemEC"
      },
      "source": [
        "##Function for testing model"
      ],
      "id": "V3stX19YemEC"
    },
    {
      "cell_type": "code",
      "execution_count": null,
      "metadata": {
        "id": "262b1f7d"
      },
      "outputs": [],
      "source": [
        "def predict_price(location, sqft, bedrooms, baths):\n",
        "    loc_index = np.where(X.columns==location)[0][0]\n",
        "    \n",
        "    x = np.zeros(len(X.columns))\n",
        "    x[0] = baths\n",
        "    x[1] = sqft\n",
        "    x[2] = bedrooms\n",
        "    if loc_index >= 0:\n",
        "        x[loc_index] = 1\n",
        "    print(x[3])\n",
        "    return loaded_model.predict([x])[0] / 100000"
      ],
      "id": "262b1f7d"
    },
    {
      "cell_type": "markdown",
      "metadata": {
        "id": "DlvuTDUwepyz"
      },
      "source": [
        "##Calling Function"
      ],
      "id": "DlvuTDUwepyz"
    },
    {
      "cell_type": "code",
      "execution_count": null,
      "metadata": {
        "id": "83959566",
        "colab": {
          "base_uri": "https://localhost:8080/"
        },
        "outputId": "24bc7629-cc49-44e8-af3b-5c89b6ad7280"
      },
      "outputs": [
        {
          "output_type": "stream",
          "name": "stdout",
          "text": [
            "0.0\n",
            "140 Lakhs\n"
          ]
        },
        {
          "output_type": "stream",
          "name": "stderr",
          "text": [
            "/usr/local/lib/python3.8/dist-packages/sklearn/base.py:450: UserWarning: X does not have valid feature names, but DecisionTreeRegressor was fitted with feature names\n",
            "  warnings.warn(\n"
          ]
        }
      ],
      "source": [
        "print(str(int(predict_price('Paragon City', 1800, 4, 3))) + \" Lakhs\")"
      ],
      "id": "83959566"
    },
    {
      "cell_type": "code",
      "execution_count": null,
      "metadata": {
        "id": "7cf38d6f",
        "colab": {
          "base_uri": "https://localhost:8080/"
        },
        "outputId": "14d25f3e-104d-4ae6-f32d-9d6c23b39e42"
      },
      "outputs": [
        {
          "output_type": "stream",
          "name": "stdout",
          "text": [
            "0.0\n",
            "60 Lakhs\n"
          ]
        },
        {
          "output_type": "stream",
          "name": "stderr",
          "text": [
            "/usr/local/lib/python3.8/dist-packages/sklearn/base.py:450: UserWarning: X does not have valid feature names, but DecisionTreeRegressor was fitted with feature names\n",
            "  warnings.warn(\n"
          ]
        }
      ],
      "source": [
        "print(str(int(predict_price('Gulberg', 1080, 3, 2))) + \" Lakhs\")"
      ],
      "id": "7cf38d6f"
    },
    {
      "cell_type": "code",
      "execution_count": null,
      "metadata": {
        "id": "qW_gaHtbx1zT",
        "colab": {
          "base_uri": "https://localhost:8080/"
        },
        "outputId": "5594327b-a7ec-4d18-a250-33f357e3a882"
      },
      "outputs": [
        {
          "output_type": "stream",
          "name": "stdout",
          "text": [
            "1.0\n",
            "89 Lakhs\n"
          ]
        },
        {
          "output_type": "stream",
          "name": "stderr",
          "text": [
            "/usr/local/lib/python3.8/dist-packages/sklearn/base.py:450: UserWarning: X does not have valid feature names, but DecisionTreeRegressor was fitted with feature names\n",
            "  warnings.warn(\n"
          ]
        }
      ],
      "source": [
        "print(str(int(predict_price('AWT Army Welfare Trust', 1080, 3, 2))) + \" Lakhs\")"
      ],
      "id": "qW_gaHtbx1zT"
    },
    {
      "cell_type": "markdown",
      "source": [
        "#Webpage"
      ],
      "metadata": {
        "id": "ADoes9oxvqie"
      },
      "id": "ADoes9oxvqie"
    },
    {
      "cell_type": "code",
      "source": [
        "!pip install pyngrok"
      ],
      "metadata": {
        "colab": {
          "base_uri": "https://localhost:8080/"
        },
        "id": "7mgxFU98vsKU",
        "outputId": "c007f035-a018-4b02-bd81-592d4616d5dd"
      },
      "id": "7mgxFU98vsKU",
      "execution_count": null,
      "outputs": [
        {
          "output_type": "stream",
          "name": "stdout",
          "text": [
            "Looking in indexes: https://pypi.org/simple, https://us-python.pkg.dev/colab-wheels/public/simple/\n",
            "Requirement already satisfied: pyngrok in /usr/local/lib/python3.8/dist-packages (5.2.1)\n",
            "Requirement already satisfied: PyYAML in /usr/local/lib/python3.8/dist-packages (from pyngrok) (6.0)\n"
          ]
        }
      ]
    },
    {
      "cell_type": "code",
      "source": [
        "from flask import Flask\n",
        "from pyngrok import ngrok"
      ],
      "metadata": {
        "id": "8Y1b2XuVvu7y"
      },
      "id": "8Y1b2XuVvu7y",
      "execution_count": null,
      "outputs": []
    },
    {
      "cell_type": "code",
      "source": [
        "port_no = 5000"
      ],
      "metadata": {
        "id": "Ekl49NJMvw_3"
      },
      "id": "Ekl49NJMvw_3",
      "execution_count": null,
      "outputs": []
    },
    {
      "cell_type": "code",
      "source": [
        "from  flask import render_template\n",
        "import requests"
      ],
      "metadata": {
        "id": "oStmhd-Wwo-V"
      },
      "id": "oStmhd-Wwo-V",
      "execution_count": null,
      "outputs": []
    },
    {
      "cell_type": "code",
      "source": [
        "app = Flask(__name__)\n",
        "ngrok.set_auth_token(\"2JjCRWzlNFIiPK0XXTaUra25guX_82stzgNzSxXeTwB8AWfEe\")\n",
        "public_url =  ngrok.connect(port_no).public_url\n",
        "\n",
        "@app.route(\"/\", methods =[\"GET\", \"POST\"])\n",
        "def home():\n",
        "    return f\"\"\"\n",
        "    <html>\n",
        "    <head>\n",
        "    <link rel=\"stylesheet\" href=\"https://cdn.jsdelivr.net/npm/bootstrap@5.2.3/dist/css/bootstrap.min.css\" integrity=\"sha384-rbsA2VBKQhggwzxH7pPCaAqO46MgnOM80zW1RWuH61DGLwZJEdK2Kadq2F9CUG65\" crossorigin=\"anonymous\">\n",
        "    </head>\n",
        "    <body>\n",
        "\n",
        "\n",
        "<div class='container'>\n",
        "<div class='row'>\n",
        "<form class='form-group'>\n",
        "<div style='height:100px;'></div>\n",
        "  \n",
        "  <div class='font-weight-bold'>\n",
        "  \n",
        "<h2>Real Estate Price Prediction</h2>\n",
        "</div>\n",
        "\n",
        "  <div class='col-6'>\n",
        "  <label class='font-weight-bold' for='location'>Enter Location:</label><br>\n",
        "  <input type=\"text\" id=\"location\" name='location' class='form-control' value=''><br>\n",
        "  </div>\n",
        "    <div class='col-6'>\n",
        "  <label class='font-weight-bold' for='sqft'>Square Feet:</label><br>\n",
        "  <input type='text' id='sqft' name='sqft'  class='form-control' value=''><br><br>\n",
        "  </div>\n",
        "  <div class='col-6'>\n",
        "  <label class='font-weight-bold' for='bedrooms'>Bedroom:</label><br>\n",
        "  <input type='text' id='bedrooms' name='bedrooms'  class='form-control' value=''><br><br>\n",
        "  </div>\n",
        "  <div class='col-6'>\n",
        "  <label class='font-weight-bold' for='baths'>No. of bath:</label><br>\n",
        "  <input type='text' id='baths' name='baths'  class='form-control' value=''><br><br>\n",
        "  </div>\n",
        "  <input class='btn btn-primary' type='submit' value='Predict Price'>\n",
        "</form> \n",
        "</div>\n",
        "</div>\n",
        "</body>\n",
        "</html>\n",
        "\n",
        "    \"\"\"\n",
        "\n",
        "app.run(port=port_no)"
      ],
      "metadata": {
        "colab": {
          "base_uri": "https://localhost:8080/"
        },
        "id": "AsUqos_ovzOc",
        "outputId": "129f971e-c13f-48be-dd03-86c914217e5e"
      },
      "id": "AsUqos_ovzOc",
      "execution_count": null,
      "outputs": [
        {
          "output_type": "stream",
          "name": "stdout",
          "text": [
            " * Serving Flask app \"__main__\" (lazy loading)\n",
            " * Environment: production\n",
            "\u001b[31m   WARNING: This is a development server. Do not use it in a production deployment.\u001b[0m\n",
            "\u001b[2m   Use a production WSGI server instead.\u001b[0m\n",
            " * Debug mode: off\n"
          ]
        },
        {
          "output_type": "stream",
          "name": "stderr",
          "text": [
            "INFO:werkzeug: * Running on http://127.0.0.1:5000/ (Press CTRL+C to quit)\n"
          ]
        }
      ]
    }
  ],
  "metadata": {
    "colab": {
      "collapsed_sections": [
        "z0oGOEC1J5oC",
        "En6lJbtnL4Mn",
        "XKYxldtIMWYn",
        "Su4rrjj0OM8s",
        "1ebee5a7",
        "AFKdKAa_cWOX",
        "90337152",
        "Ip36bhZndhEq",
        "q9PwfCpldvuR",
        "ITnA4Lm9d3H5",
        "25XjeY14eBAc",
        "q8HyS7j7eHpm",
        "hWCjH3tZeTE8",
        "TYbh6syi2B90",
        "LWn5P_7Xflcy"
      ],
      "provenance": []
    },
    "kernelspec": {
      "display_name": "Python 3",
      "language": "python",
      "name": "python3"
    },
    "language_info": {
      "codemirror_mode": {
        "name": "ipython",
        "version": 3
      },
      "file_extension": ".py",
      "mimetype": "text/x-python",
      "name": "python",
      "nbconvert_exporter": "python",
      "pygments_lexer": "ipython3",
      "version": "3.7.10"
    },
    "papermill": {
      "default_parameters": {},
      "duration": 50.565266,
      "end_time": "2021-11-30T07:24:55.343592",
      "environment_variables": {},
      "exception": null,
      "input_path": "__notebook__.ipynb",
      "output_path": "__notebook__.ipynb",
      "parameters": {},
      "start_time": "2021-11-30T07:24:04.778326",
      "version": "2.3.3"
    }
  },
  "nbformat": 4,
  "nbformat_minor": 5
}